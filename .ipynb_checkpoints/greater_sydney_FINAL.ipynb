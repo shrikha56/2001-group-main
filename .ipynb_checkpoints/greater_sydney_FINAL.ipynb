{
 "cells": [
  {
   "cell_type": "markdown",
   "id": "d919fec7",
   "metadata": {},
   "source": [
    "# Greater Sydney Data Processing and PostgreSQL Integration\n",
    "\n",
    "This script processes greater sydney datasets and integrates them with postgresql.\n",
    "it includes functionality for:\n",
    "\n",
    "- cleaning and processing various datasets (income, population, businesses, stops)\n",
    "- processing sa2 boundaries and school catchments\n",
    "- handling points of interest (poi) data\n",
    "- database integration with postgresql and postgis\n",
    "\n"
   ]
  },
  {
   "cell_type": "code",
   "execution_count": 3,
   "id": "5b0a32aa-43a2-4d08-ba4b-78f63163eac1",
   "metadata": {},
   "outputs": [
    {
     "data": {
      "text/html": [
       "<link href=\"https://fonts.googleapis.com/css2?family=Inter:wght@300;400;600&display=swap\" rel=\"stylesheet\"><style>body{font-family:'Inter',sans-serif;background-color:#f7f9fc;color:#1f2d3d;}h1,h2,h3,h4{font-weight:600;border-radius:8px;padding:10px 15px;margin-top:20px;margin-bottom:10px;box-shadow:0 2px 5px rgba(0,0,0,0.05);}h1{background-color:#1e88e5;color:white;font-size:36px;}h2{background-color:#43a047;color:white;font-size:30px;}h3{background-color:#fb8c00;color:white;font-size:24px;}h4{background-color:#fdd835;color:#1f2d3d;font-size:20px;text-align:center;font-style:italic;}.text_cell_render p{font-size:16px;line-height:1.6;}input[type=submit]{background-color:#1e88e5;border:none;color:white;padding:10px 18px;text-decoration:none;margin:8px 4px;cursor:pointer;border-radius:30px;font-weight:600;transition:background-color 0.3s ease;}input[type=submit]:hover{background-color:#1565c0;}</style>"
      ],
      "text/plain": [
       "<IPython.core.display.HTML object>"
      ]
     },
     "execution_count": 3,
     "metadata": {},
     "output_type": "execute_result"
    }
   ],
   "source": [
    "from IPython.display import HTML; HTML('<link href=\"https://fonts.googleapis.com/css2?family=Inter:wght@300;400;600&display=swap\" rel=\"stylesheet\"><style>body{font-family:\\'Inter\\',sans-serif;background-color:#f7f9fc;color:#1f2d3d;}h1,h2,h3,h4{font-weight:600;border-radius:8px;padding:10px 15px;margin-top:20px;margin-bottom:10px;box-shadow:0 2px 5px rgba(0,0,0,0.05);}h1{background-color:#1e88e5;color:white;font-size:36px;}h2{background-color:#43a047;color:white;font-size:30px;}h3{background-color:#fb8c00;color:white;font-size:24px;}h4{background-color:#fdd835;color:#1f2d3d;font-size:20px;text-align:center;font-style:italic;}.text_cell_render p{font-size:16px;line-height:1.6;}input[type=submit]{background-color:#1e88e5;border:none;color:white;padding:10px 18px;text-decoration:none;margin:8px 4px;cursor:pointer;border-radius:30px;font-weight:600;transition:background-color 0.3s ease;}input[type=submit]:hover{background-color:#1565c0;}</style>')"
   ]
  },
  {
   "cell_type": "markdown",
   "id": "486cc04f",
   "metadata": {},
   "source": [
    "## 1. Import Libraries\n"
   ]
  },
  {
   "cell_type": "code",
   "execution_count": 6,
   "id": "0633c3b4",
   "metadata": {},
   "outputs": [],
   "source": [
    "# import all the necessary libraries\n",
    "import pandas as pd\n",
    "import geopandas as gpd\n",
    "from pathlib import Path\n",
    "import os\n",
    "import requests\n",
    "import time\n",
    "import json\n",
    "from shapely.geometry import Point, Polygon, shape\n",
    "from shapely.ops import transform\n",
    "import pyproj\n",
    "from functools import partial\n",
    "from sqlalchemy import create_engine, text\n",
    "from sqlalchemy.types import Text\n",
    "import warnings"
   ]
  },
  {
   "cell_type": "markdown",
   "id": "d3c64f5c",
   "metadata": {},
   "source": [
    "## 2. Define the credentials file path\n"
   ]
  },
  {
   "cell_type": "code",
   "execution_count": 9,
   "id": "ef0dc5dc",
   "metadata": {},
   "outputs": [],
   "source": [
    "# credentials file path\n",
    "CREDENTIALS_FILE = \"Credentials.json\"\n",
    "\n",
    "# connect to postgresql database using the credentials from json file\n",
    "def pgconnect(credential_filepath, db_schema=\"public\"):\n",
    "    \"\"\"connect to postgresql database using credentials from json file\"\"\"\n",
    "    with open(credential_filepath) as f:\n",
    "        db_conn_dict = json.load(f)\n",
    "        host = db_conn_dict['host']\n",
    "        db_user = db_conn_dict['user']\n",
    "        db_pw = db_conn_dict['password']\n",
    "        default_db = db_conn_dict['user']\n",
    "        try:\n",
    "            db = create_engine('postgresql+psycopg2://'+db_user+':'+db_pw+'@'+host+'/'+default_db, echo=False)\n",
    "            conn = db.connect()\n",
    "            print('connected successfully.')\n",
    "        except Exception as e:\n",
    "            print(\"unable to connect to the database.\")\n",
    "            print(e)\n",
    "            db, conn = None, None\n",
    "        return db, conn"
   ]
  },
  {
   "cell_type": "markdown",
   "id": "bf265c71",
   "metadata": {},
   "source": [
    "## 3. Clean the datasets\n"
   ]
  },
  {
   "cell_type": "code",
   "execution_count": 12,
   "id": "b04e28fa",
   "metadata": {},
   "outputs": [],
   "source": [
    "# define a function to clean the income dataset\n",
    "def clean_income(df):\n",
    "    \"\"\"clean and process income data\"\"\"\n",
    "    df_renamed = df.rename(columns={\"sa2_code21\": \"sa2_code\"})\n",
    "    df_copy = df_renamed[[\"sa2_code\", \"sa2_name\", \"median_income\", \"mean_income\"]].copy()\n",
    "    df_copy[\"sa2_code\"] = df_copy[\"sa2_code\"].astype(str)\n",
    "    df_copy[\"median_income\"] = pd.to_numeric(df_copy[\"median_income\"], errors=\"coerce\")\n",
    "    df_copy[\"mean_income\"] = pd.to_numeric(df_copy[\"mean_income\"], errors=\"coerce\")\n",
    "    return df_copy\n",
    "\n",
    "# define a function to clean the population dataset\n",
    "def clean_population(df):\n",
    "    \"\"\"clean and process population data\"\"\"\n",
    "    df_renamed = df.rename(columns={\n",
    "        \"0-4_people\": \"age_0_4\",\n",
    "        \"5-9_people\": \"age_5_9\",\n",
    "        \"10-14_people\": \"age_10_14\",\n",
    "        \"15-19_people\": \"age_15_19\",\n",
    "        \"20-24_people\": \"age_20_24\",\n",
    "        \"25-29_people\": \"age_25_29\",\n",
    "        \"30-34_people\": \"age_30_34\",\n",
    "        \"35-39_people\": \"age_35_39\",\n",
    "        \"40-44_people\": \"age_40_44\",\n",
    "        \"45-49_people\": \"age_45_49\",\n",
    "        \"50-54_people\": \"age_50_54\",\n",
    "        \"55-59_people\": \"age_55_59\",\n",
    "        \"60-64_people\": \"age_60_64\",\n",
    "        \"65-69_people\": \"age_65_69\",\n",
    "        \"70-74_people\": \"age_70_74\",\n",
    "        \"75-79_people\": \"age_75_79\",\n",
    "        \"80-84_people\": \"age_80_84\",\n",
    "        \"85-and-over_people\": \"age_85_plus\",\n",
    "        \"total_people\": \"total_population\"\n",
    "    })\n",
    "    df_renamed[\"sa2_code\"] = df_renamed[\"sa2_code\"].astype(str)\n",
    "    pop_cols = [col for col in df_renamed.columns if col.startswith(\"age_\") or col == \"total_population\"]\n",
    "    df_copy = df_renamed.copy()\n",
    "    for col in pop_cols:\n",
    "        df_copy[col] = pd.to_numeric(df_copy[col], errors=\"coerce\").fillna(0).astype(int)\n",
    "    return df_copy[[\"sa2_code\", \"sa2_name\"] + pop_cols]\n",
    "\n",
    "# create a function to clean the business dataset\n",
    "def clean_businesses(df):\n",
    "    \"\"\"clean and process business data\"\"\"\n",
    "    df_copy = df[[\n",
    "        \"sa2_code\", \"sa2_name\", \"industry_code\", \"industry_name\", \"total_businesses\"\n",
    "    ]].copy()\n",
    "    df_copy[\"sa2_code\"] = df_copy[\"sa2_code\"].astype(str)\n",
    "    df_copy[\"total_businesses\"] = pd.to_numeric(df_copy[\"total_businesses\"], errors=\"coerce\").fillna(0).astype(int)\n",
    "    return df_copy\n",
    "\n",
    "# create a functions to clean the stops dataset \n",
    "# assumes the stops.txt has been renamed to stops.csv\n",
    "def clean_stops(df):\n",
    "    \"\"\"clean and process transport stops data\"\"\"\n",
    "    df_copy = df[[\"stop_id\", \"stop_name\", \"stop_lat\", \"stop_lon\"]].copy()\n",
    "    df_copy[\"stop_lat\"] = pd.to_numeric(df_copy[\"stop_lat\"], errors=\"coerce\")\n",
    "    df_copy[\"stop_lon\"] = pd.to_numeric(df_copy[\"stop_lon\"], errors=\"coerce\")\n",
    "    return df_copy.dropna(subset=[\"stop_lat\", \"stop_lon\"])\n",
    "\n",
    "# create a function to clean the shapefiles for the schools\n",
    "def clean_catchments(file_path):\n",
    "    \"\"\"clean and process school catchment data\"\"\"\n",
    "    gdf = gpd.read_file(file_path)\n",
    "    if 'USE_DESC' in gdf.columns:\n",
    "        gdf = gdf.rename(columns={\"USE_DESC\": \"school_name\"})\n",
    "    else:\n",
    "        base_name = Path(file_path).stem\n",
    "        gdf['school_name'] = f\"{base_name}_catchment\"\n",
    "    \n",
    "    gdf = gdf[[col for col in gdf.columns if col in ['school_name', 'geometry']]]\n",
    "    \n",
    "    if gdf.crs is not None and gdf.crs.to_epsg() != 4326:\n",
    "        gdf = gdf.to_crs(epsg=4326)\n",
    "    elif gdf.crs is None:\n",
    "        gdf.set_crs(epsg=4326, inplace=True)\n",
    "    return gdf\n",
    "\n",
    "# create a function to clean the sa2 boundaries dataset\n",
    "def clean_sa2_boundaries(file_path):\n",
    "    \"\"\"clean and process sa2 boundaries data\"\"\"\n",
    "    gdf = gpd.read_file(file_path)\n",
    "    gdf = gdf[gdf[\"GCC_NAME21\"] == \"Greater Sydney\"].copy()\n",
    "    gdf = gdf[[\"SA2_CODE21\", \"SA2_NAME21\", \"geometry\"]].rename(columns={\n",
    "        \"SA2_CODE21\": \"sa2_code\",\n",
    "        \"SA2_NAME21\": \"sa2_name\"\n",
    "    })\n",
    "    gdf['sa2_code'] = gdf['sa2_code'].astype(str)\n",
    "    \n",
    "    if gdf.crs is not None and gdf.crs.to_epsg() != 4326:\n",
    "        gdf = gdf.to_crs(epsg=4326)\n",
    "    elif gdf.crs is None:\n",
    "        gdf.set_crs(epsg=4326, inplace=True)\n",
    "    return gdf\n",
    "\n",
    "\n",
    "def clean_sa4_boundaries(file_path):\n",
    "    # Clean all SA4 Regions\n",
    "    sa4_gdf = gpd.read_file(file_path)  \n",
    "    sa4_gdf = sa4_gdf[[\"SA4_CODE21\", \"SA4_NAME21\", \"geometry\"]].rename(columns={\n",
    "        \"SA4_CODE21\": \"sa4_code\",\n",
    "        \"SA4_NAME21\": \"sa4_name\"\n",
    "    })\n",
    "    sa4_gdf[\"sa4_code\"] = sa4_gdf[\"sa4_code\"].astype(str)\n",
    "\n",
    "    # Filter out rows with missing geometry\n",
    "    sa4_gdf = sa4_gdf[sa4_gdf['geometry'].notnull()].copy()\n",
    "\n",
    "    \n",
    "    # Ensure CRS is WGS84\n",
    "    if sa4_gdf.crs is None or sa4_gdf.crs.to_epsg() != 4326:\n",
    "        sa4_gdf = sa4_gdf.to_crs(epsg=4326)\n",
    "    elif sa4_gdf.crs is None:\n",
    "        sa4_gdf.set_crs(epsg=4326, inplace=True)\n",
    "    return sa4_gdf\n"
   ]
  },
  {
   "cell_type": "markdown",
   "id": "2d4c73a7",
   "metadata": {},
   "source": [
    "## 4. Define a function to get points of interest within a bounding box\n"
   ]
  },
  {
   "cell_type": "code",
   "execution_count": 15,
   "id": "8037b9e3",
   "metadata": {},
   "outputs": [],
   "source": [
    "# function to get points of interest within a bounding box\n",
    "def get_geometry_bbox(geometry):\n",
    "    \"\"\"get the bounding box coordinates of a geometry\"\"\"\n",
    "    return geometry.bounds  # (min_lon, min_lat, max_lon, max_lat)\n",
    "\n",
    "# function to check if a point is within a polygon\n",
    "def point_in_polygon(point, polygon):\n",
    "    \"\"\"check if a point is within a polygon\"\"\"\n",
    "    return polygon.contains(point)\n",
    "\n",
    "# get_poi_in_bbox(min_lon, min_lat, max_lon, max_lat)\n",
    "def get_poi_in_bbox(min_lon, min_lat, max_lon, max_lat):\n",
    "    \"\"\"get points of interest within a bounding box from nsw poi api\"\"\"\n",
    "    base_url = \"https://maps.six.nsw.gov.au/arcgis/rest/services/public/NSW_POI/MapServer/0/query\"\n",
    "    \n",
    "    params = {\n",
    "        'where': '1=1',\n",
    "        'outFields': '*',\n",
    "        'geometry': f\"{min_lon},{min_lat},{max_lon},{max_lat}\",\n",
    "        'geometryType': 'esriGeometryEnvelope',\n",
    "        'inSR': '4326',\n",
    "        'outSR': '4326',\n",
    "        'spatialRel': 'esriSpatialRelIntersects',\n",
    "        'f': 'json'\n",
    "    }\n",
    "    \n",
    "    try:\n",
    "        response = requests.get(base_url, params=params)\n",
    "        response.raise_for_status()\n",
    "        \n",
    "        data = response.json()\n",
    "        \n",
    "        if 'features' not in data:\n",
    "            print(f\"no features found in response: {data}\")\n",
    "            return []\n",
    "            \n",
    "        return data['features']\n",
    "    \n",
    "    except Exception as e:\n",
    "        print(f\"error fetching poi data: {e}\")\n",
    "        return []\n",
    "\n"
   ]
  },
  {
   "cell_type": "markdown",
   "id": "5fb863ee",
   "metadata": {},
   "source": [
    "## 5. Process POI for sa2 regions\n"
   ]
  },
  {
   "cell_type": "code",
   "execution_count": 18,
   "id": "b2bbb839",
   "metadata": {},
   "outputs": [],
   "source": [
    "# process_poi_for_sa2_regions(sa2_gdf, selected_sa4s=None)\n",
    "def process_poi_for_sa2_regions(sa2_gdf, selected_sa4s=None):\n",
    "    \"\"\"\n",
    "    Process points of interest for all SA2 regions within selected SA4 regions.\n",
    "    \n",
    "    Parameters:\n",
    "    -----------\n",
    "    sa2_gdf : geopandas.GeoDataFrame\n",
    "        GeoDataFrame containing SA2 region boundaries\n",
    "    selected_sa4s : list, optional\n",
    "        List of SA4 region names to filter by. If None, all SA2 regions are processed.\n",
    "        \n",
    "    Returns:\n",
    "    --------\n",
    "    pandas.DataFrame\n",
    "        DataFrame containing points of interest with associated SA2 regions\n",
    "    \"\"\"\n",
    "    # Filter SA2 regions by selected SA4s if provided\n",
    "    if selected_sa4s and 'sa4_name' in sa2_gdf.columns:\n",
    "        filtered_sa2 = sa2_gdf[sa2_gdf['sa4_name'].isin(selected_sa4s)]\n",
    "    else:\n",
    "        filtered_sa2 = sa2_gdf\n",
    "    \n",
    "    # Initialize an empty list to store all POIs\n",
    "    all_pois = []\n",
    "    \n",
    "    # Loop through each SA2 region\n",
    "    for idx, sa2_region in filtered_sa2.iterrows():\n",
    "        sa2_code = sa2_region['sa2_code']\n",
    "        sa2_name = sa2_region['sa2_name']\n",
    "        sa2_geometry = sa2_region['geometry']\n",
    "        \n",
    "        print(f\"Processing SA2 region: {sa2_name} ({sa2_code})\")\n",
    "        \n",
    "        # Get the bounding box of the SA2 region\n",
    "        min_lon, min_lat, max_lon, max_lat = get_geometry_bbox(sa2_geometry)\n",
    "        \n",
    "        # Get all POIs within the bounding box\n",
    "        pois = get_poi_in_bbox(min_lon, min_lat, max_lon, max_lat)\n",
    "        \n",
    "        # Filter POIs to only include those within the SA2 region\n",
    "        for poi in pois:\n",
    "            if 'geometry' in poi and 'x' in poi['geometry'] and 'y' in poi['geometry']:\n",
    "                # Create a Point from the POI coordinates\n",
    "                poi_point = Point(poi['geometry']['x'], poi['geometry']['y'])\n",
    "                \n",
    "                # Check if the point is within the SA2 region\n",
    "                if point_in_polygon(poi_point, sa2_geometry):\n",
    "                    # Add SA2 information to the POI\n",
    "                    poi['attributes']['sa2_code'] = sa2_code\n",
    "                    poi['attributes']['sa2_name'] = sa2_name\n",
    "                    \n",
    "                    # Add coordinates for easier access\n",
    "                    poi['attributes']['longitude'] = poi['geometry']['x']\n",
    "                    poi['attributes']['latitude'] = poi['geometry']['y']\n",
    "                    \n",
    "                    # Add the POI to the list\n",
    "                    all_pois.append(poi['attributes'])\n",
    "    \n",
    "    # Create a DataFrame from all POIs\n",
    "    if all_pois:\n",
    "        poi_df = pd.DataFrame(all_pois)\n",
    "        \n",
    "        # Select only the columns we need\n",
    "        columns_to_keep = [\n",
    "            'objectid', 'poigroup', 'poitype', 'poiname', 'poilabel',\n",
    "            'sa2_code', 'sa2_name', 'longitude', 'latitude'\n",
    "        ]\n",
    "        existing_columns = [col for col in columns_to_keep if col in poi_df.columns]\n",
    "        poi_df = poi_df[existing_columns]\n",
    "        \n",
    "        # Rename columns for clarity\n",
    "        column_mapping = {\n",
    "            'objectid': 'poi_id',\n",
    "            'poigroup': 'poi_group',\n",
    "            'poitype': 'poi_type',\n",
    "            'poiname': 'poi_name',\n",
    "            'poilabel': 'poi_label'\n",
    "        }\n",
    "        poi_df = poi_df.rename(columns=column_mapping)\n",
    "        \n",
    "        return poi_df\n",
    "    else:\n",
    "        print(\"No POIs found within any SA2 region.\")\n",
    "        return pd.DataFrame()"
   ]
  },
  {
   "cell_type": "markdown",
   "id": "d575cd1a",
   "metadata": {},
   "source": [
    "## 6. Save POI data to PostgreSQL\n"
   ]
  },
  {
   "cell_type": "code",
   "execution_count": 21,
   "id": "398b1df3",
   "metadata": {},
   "outputs": [],
   "source": [
    "# Function to save POI data to PostgreSQL\n",
    "def save_poi_to_postgresql(poi_df, engine):\n",
    "    \"\"\"save points of interest data to postgresql\"\"\"\n",
    "    try:\n",
    "        geometry = [Point(xy) for xy in zip(poi_df['longitude'], poi_df['latitude'])]\n",
    "        gdf = gpd.GeoDataFrame(poi_df, geometry=geometry, crs=\"EPSG:4326\")\n",
    "        gdf = gdf.drop(['longitude', 'latitude'], axis=1)\n",
    "        \n",
    "        gdf.to_postgis(\"points_of_interest\", engine, if_exists=\"replace\", index=False)\n",
    "        \n",
    "        print(f\"successfully saved {len(gdf)} points of interest to postgresql\")\n",
    "        \n",
    "        with engine.begin() as conn:\n",
    "            for index_name in [\"idx_poi_sa2_code\", \"idx_poi_geometry\"]:\n",
    "                result = conn.execute(text(f\"\"\"\n",
    "                SELECT EXISTS (\n",
    "                    SELECT 1 FROM pg_indexes \n",
    "                    WHERE indexname = '{index_name}'\n",
    "                )\n",
    "                \"\"\"))\n",
    "                if not result.scalar():\n",
    "                    if index_name == \"idx_poi_geometry\":\n",
    "                        conn.execute(text(f\"CREATE INDEX {index_name} ON points_of_interest USING GIST(geometry)\"))\n",
    "                    else:\n",
    "                        conn.execute(text(f\"CREATE INDEX {index_name} ON points_of_interest(sa2_code)\"))\n",
    "            print(\"added indexes to points_of_interest table\")\n",
    "        \n",
    "        return True\n",
    "    \n",
    "    except Exception as e:\n",
    "        print(f\"error saving poi data to postgresql: {e}\")\n",
    "        return False\n"
   ]
  },
  {
   "cell_type": "markdown",
   "id": "c6c6fb32",
   "metadata": {},
   "source": [
    "## 7. Save the cleaned datasets to PostgreSQL\n"
   ]
  },
  {
   "cell_type": "code",
   "execution_count": 24,
   "id": "a94cb912",
   "metadata": {},
   "outputs": [],
   "source": [
    "def save_cleaned_data(income_cleaned, population_cleaned, businesses_cleaned, stops_cleaned, sa2, primary, secondary, future, sa4):\n",
    "    \"\"\"save all cleaned data to files and postgresql\"\"\"\n",
    "    # save cleaned csv datasets\n",
    "    income_cleaned.to_csv(\"income_cleaned.csv\", index=False)\n",
    "    population_cleaned.to_csv(\"population_cleaned.csv\", index=False)\n",
    "    businesses_cleaned.to_csv(\"businesses_cleaned.csv\", index=False)\n",
    "    stops_cleaned.to_csv(\"stops_cleaned.csv\", index=False)\n",
    "    \n",
    "    # save cleaned shapefiles\n",
    "    sa2.to_file(\"sa2_cleaned.shp\")\n",
    "    sa4.to_file(\"sa4_cleaned.shp\")\n",
    "    primary.to_file(\"catchments_primary_cleaned.shp\")\n",
    "    secondary.to_file(\"catchments_secondary_cleaned.shp\")\n",
    "    future.to_file(\"catchments_future_cleaned.shp\")\n",
    "    \n",
    "    try:\n",
    "        print(\"\\nsaving all datasets to postgresql...\")\n",
    "        engine, conn = pgconnect(CREDENTIALS_FILE)\n",
    "        if engine is None:\n",
    "            print(\"failed to connect to the database. skipping postgresql operations.\")\n",
    "            return\n",
    "        \n",
    "        # save sa2 boundaries\n",
    "        with engine.begin() as conn:\n",
    "            result = conn.execute(text(\"SELECT EXISTS (SELECT FROM information_schema.tables WHERE table_name = 'sa2_boundaries')\"))\n",
    "            table_exists = result.scalar()\n",
    "            \n",
    "            if table_exists:\n",
    "                print(\"sa2 boundaries table already exists in postgresql.\")\n",
    "                result = conn.execute(text(\"SELECT sa2_code FROM sa2_boundaries\"))\n",
    "                existing_codes = [row[0] for row in result]\n",
    "                \n",
    "                sa2_df = sa2.copy()\n",
    "                \n",
    "                for idx, row in sa2_df.iterrows():\n",
    "                    sa2_code = row['sa2_code']\n",
    "                    sa2_name = row['sa2_name']\n",
    "                    wkt_geometry = row['geometry'].wkt\n",
    "                    \n",
    "                    if sa2_code in existing_codes:\n",
    "                        conn.execute(text(\"\"\"\n",
    "                        UPDATE sa2_boundaries \n",
    "                        SET sa2_name = :sa2_name, \n",
    "                            geometry = ST_GeomFromText(:wkt_geometry, 4326)\n",
    "                        WHERE sa2_code = :sa2_code\n",
    "                        \"\"\"), {\"sa2_code\": sa2_code, \"sa2_name\": sa2_name, \"wkt_geometry\": wkt_geometry})\n",
    "                    else:\n",
    "                        conn.execute(text(\"\"\"\n",
    "                        INSERT INTO sa2_boundaries (sa2_code, sa2_name, geometry)\n",
    "                        VALUES (:sa2_code, :sa2_name, ST_GeomFromText(:wkt_geometry, 4326))\n",
    "                        \"\"\"), {\"sa2_code\": sa2_code, \"sa2_name\": sa2_name, \"wkt_geometry\": wkt_geometry})\n",
    "                \n",
    "                print(\"successfully updated sa2 boundaries in postgresql\")\n",
    "            else:\n",
    "                sa2.to_postgis(\"sa2_boundaries\", engine, if_exists=\"replace\", index=False)\n",
    "                \n",
    "                with engine.begin() as conn:\n",
    "                    conn.execute(text(\"\"\"\n",
    "                    CREATE INDEX idx_sa2_boundaries_geometry ON sa2_boundaries USING GIST(geometry);\n",
    "                    CREATE INDEX idx_sa2_boundaries_sa2_code ON sa2_boundaries(sa2_code);\n",
    "                    \"\"\"))\n",
    "                \n",
    "                print(\"successfully saved sa2 boundaries to postgresql with indexes\")\n",
    "        \n",
    "        # get valid sa2 codes\n",
    "        valid_sa2_codes = set(sa2['sa2_code'].tolist())\n",
    "        print(f\"found {len(valid_sa2_codes)} valid sa2 codes in greater sydney region\")\n",
    "\n",
    "\n",
    "        # Insert or update SA4 boundaries in PostgreSQL\n",
    "        with engine.begin() as conn:\n",
    "            result = conn.execute(text(\"SELECT EXISTS (SELECT FROM information_schema.tables WHERE table_name = 'sa4_boundaries')\"))\n",
    "            table_exists = result.scalar()\n",
    "            \n",
    "            if table_exists:\n",
    "                print(\"sa4 boundaries table already exists in postgresql.\")\n",
    "                result = conn.execute(text(\"SELECT sa4_code FROM sa4_boundaries\"))\n",
    "                existing_codes = [row[0] for row in result]\n",
    "                \n",
    "                sa4_df = sa4.copy()\n",
    "                \n",
    "                for idx, row in sa4_df.iterrows():\n",
    "                    sa4_code = row['sa4_code']\n",
    "                    sa4_name = row['sa4_name']\n",
    "                    wkt_geometry = row['geometry'].wkt\n",
    "                    \n",
    "                    if sa4_code in existing_codes:\n",
    "                        conn.execute(text(\"\"\"\n",
    "                        UPDATE sa4_boundaries \n",
    "                        SET sa4_name = :sa4_name, \n",
    "                            geometry = ST_GeomFromText(:wkt_geometry, 4326)\n",
    "                        WHERE sa4_code = :sa4_code\n",
    "                        \"\"\"), {\"sa4_code\": sa4_code, \"sa4_name\": sa4_name, \"wkt_geometry\": wkt_geometry})\n",
    "                    else:\n",
    "                        conn.execute(text(\"\"\"\n",
    "                        INSERT INTO sa4_boundaries (sa4_code, sa4_name, geometry)\n",
    "                        VALUES (:sa4_code, :sa4_name, ST_GeomFromText(:wkt_geometry, 4326))\n",
    "                        \"\"\"), {\"sa4_code\": sa4_code, \"sa4_name\": sa4_name, \"wkt_geometry\": wkt_geometry})\n",
    "                \n",
    "                print(\"successfully updated sa4 boundaries in postgresql\")\n",
    "            \n",
    "            else:\n",
    "                sa4.to_postgis(\"sa4_boundaries\", engine, if_exists=\"replace\", index=False)\n",
    "                \n",
    "                with engine.begin() as conn:\n",
    "                    conn.execute(text(\"\"\"\n",
    "                    CREATE INDEX IF NOT EXISTS idx_sa4_boundaries_geometry ON sa4_boundaries USING GIST(geometry);\n",
    "                    CREATE INDEX IF NOT EXISTS idx_sa4_boundaries_sa4_code ON sa4_boundaries(sa4_code);\n",
    "                    \"\"\"))\n",
    "                \n",
    "                print(\"successfully saved sa4 boundaries to postgresql with indexes\")\n",
    "                \n",
    "        \n",
    "        valid_sa4_codes = set(sa4['sa4_code'].tolist())\n",
    "        print(f\"found {len(valid_sa4_codes)} valid sa4 codes in greater sydney region\")\n",
    "\n",
    "        # save income data\n",
    "        income_filtered = income_cleaned[income_cleaned['sa2_code'].isin(valid_sa2_codes)].copy()\n",
    "        print(f\"filtered income data from {len(income_cleaned)} to {len(income_filtered)} records (greater sydney only)\")\n",
    "        \n",
    "        income_filtered.to_sql(\"income\", engine, if_exists=\"replace\", index=False, dtype={\"sa2_code\": Text})\n",
    "        with engine.begin() as conn:\n",
    "            result = conn.execute(text(\"\"\"\n",
    "            SELECT EXISTS (\n",
    "                SELECT 1 FROM pg_indexes \n",
    "                WHERE indexname = 'idx_income_sa2_code'\n",
    "            )\n",
    "            \"\"\"))\n",
    "            if not result.scalar():\n",
    "                conn.execute(text(\"CREATE INDEX idx_income_sa2_code ON income(sa2_code)\"))\n",
    "        print(\"successfully saved income data to postgresql\")\n",
    "        \n",
    "        # save population data\n",
    "        population_filtered = population_cleaned[population_cleaned['sa2_code'].isin(valid_sa2_codes)].copy()\n",
    "        print(f\"filtered population data from {len(population_cleaned)} to {len(population_filtered)} records (greater sydney only)\")\n",
    "        \n",
    "        population_filtered.to_sql(\"population\", engine, if_exists=\"replace\", index=False, dtype={\"sa2_code\": Text})\n",
    "        with engine.begin() as conn:\n",
    "            result = conn.execute(text(\"\"\"\n",
    "            SELECT EXISTS (\n",
    "                SELECT 1 FROM pg_indexes \n",
    "                WHERE indexname = 'idx_population_sa2_code'\n",
    "            )\n",
    "            \"\"\"))\n",
    "            if not result.scalar():\n",
    "                conn.execute(text(\"CREATE INDEX idx_population_sa2_code ON population(sa2_code)\"))\n",
    "        print(\"successfully saved population data to postgresql\")\n",
    "        \n",
    "        # save businesses data\n",
    "        businesses_filtered = businesses_cleaned[businesses_cleaned['sa2_code'].isin(valid_sa2_codes)].copy()\n",
    "        print(f\"filtered businesses data from {len(businesses_cleaned)} to {len(businesses_filtered)} records (greater sydney only)\")\n",
    "        \n",
    "        businesses_filtered.to_sql(\"businesses\", engine, if_exists=\"replace\", index=False, dtype={\"sa2_code\": Text})\n",
    "        with engine.begin() as conn:\n",
    "            for index_name in [\"idx_businesses_sa2_code\", \"idx_businesses_industry_code\"]:\n",
    "                result = conn.execute(text(f\"\"\"\n",
    "                SELECT EXISTS (\n",
    "                    SELECT 1 FROM pg_indexes \n",
    "                    WHERE indexname = '{index_name}'\n",
    "                )\n",
    "                \"\"\"))\n",
    "                if not result.scalar():\n",
    "                    if index_name == \"idx_businesses_sa2_code\":\n",
    "                        conn.execute(text(f\"CREATE INDEX {index_name} ON businesses(sa2_code)\"))\n",
    "                    else:\n",
    "                        conn.execute(text(f\"CREATE INDEX {index_name} ON businesses(industry_code)\"))\n",
    "        print(\"successfully saved businesses data to postgresql\")\n",
    "        \n",
    "        # save stops data\n",
    "        stops_gdf = gpd.GeoDataFrame(\n",
    "            stops_cleaned, \n",
    "            geometry=gpd.points_from_xy(stops_cleaned.stop_lon, stops_cleaned.stop_lat),\n",
    "            crs=\"EPSG:4326\"\n",
    "        )\n",
    "        stops_gdf = stops_gdf.drop(['stop_lat', 'stop_lon'], axis=1)\n",
    "        stops_gdf.to_postgis(\"stops\", engine, if_exists=\"replace\", index=False)\n",
    "        with engine.begin() as conn:\n",
    "            for index_name in [\"idx_stops_geometry\", \"idx_stops_stop_id\"]:\n",
    "                result = conn.execute(text(f\"\"\"\n",
    "                SELECT EXISTS (\n",
    "                    SELECT 1 FROM pg_indexes \n",
    "                    WHERE indexname = '{index_name}'\n",
    "                )\n",
    "                \"\"\"))\n",
    "                if not result.scalar():\n",
    "                    if index_name == \"idx_stops_geometry\":\n",
    "                        conn.execute(text(f\"CREATE INDEX {index_name} ON stops USING GIST(geometry)\"))\n",
    "                    else:\n",
    "                        conn.execute(text(f\"CREATE INDEX {index_name} ON stops(stop_id)\"))\n",
    "        print(\"successfully saved stops data to postgresql\")\n",
    "        \n",
    "        # save school catchments\n",
    "        primary.to_postgis(\"primary_catchments\", engine, if_exists=\"replace\", index=False)\n",
    "        with engine.begin() as conn:\n",
    "            result = conn.execute(text(\"\"\"\n",
    "            SELECT EXISTS (\n",
    "                SELECT 1 FROM pg_indexes \n",
    "                WHERE indexname = 'idx_primary_catchments_geometry'\n",
    "            )\n",
    "            \"\"\"))\n",
    "            if not result.scalar():\n",
    "                conn.execute(text(\"CREATE INDEX idx_primary_catchments_geometry ON primary_catchments USING GIST(geometry)\"))\n",
    "        print(\"successfully saved primary school catchments to postgresql\")\n",
    "        \n",
    "        secondary.to_postgis(\"secondary_catchments\", engine, if_exists=\"replace\", index=False)\n",
    "        with engine.begin() as conn:\n",
    "            result = conn.execute(text(\"\"\"\n",
    "            SELECT EXISTS (\n",
    "                SELECT 1 FROM pg_indexes \n",
    "                WHERE indexname = 'idx_secondary_catchments_geometry'\n",
    "            )\n",
    "            \"\"\"))\n",
    "            if not result.scalar():\n",
    "                conn.execute(text(\"CREATE INDEX idx_secondary_catchments_geometry ON secondary_catchments USING GIST(geometry)\"))\n",
    "        print(\"successfully saved secondary school catchments to postgresql\")\n",
    "        \n",
    "        future.to_postgis(\"future_catchments\", engine, if_exists=\"replace\", index=False)\n",
    "        with engine.begin() as conn:\n",
    "            result = conn.execute(text(\"\"\"\n",
    "            SELECT EXISTS (\n",
    "                SELECT 1 FROM pg_indexes \n",
    "                WHERE indexname = 'idx_future_catchments_geometry'\n",
    "            )\n",
    "            \"\"\"))\n",
    "            if not result.scalar():\n",
    "                conn.execute(text(\"CREATE INDEX idx_future_catchments_geometry ON future_catchments USING GIST(geometry)\"))\n",
    "        print(\"successfully saved future school catchments to postgresql\")\n",
    "        \n",
    "        print(\"\\nall datasets successfully saved to postgresql with proper indexing\")\n",
    "        \n",
    "    except Exception as e:\n",
    "        print(f\"error saving data to postgresql: {e}\")\n"
   ]
  },
  {
   "cell_type": "markdown",
   "id": "46c49d47",
   "metadata": {},
   "source": [
    "## 8. Process points of interest data for sa2 regions\n"
   ]
  },
  {
   "cell_type": "code",
   "execution_count": 27,
   "id": "7c8cf124",
   "metadata": {},
   "outputs": [],
   "source": [
    "def process_poi_data():\n",
    "    \"\"\"process points of interest data for sa2 regions and save to postgresql\"\"\"\n",
    "    try:\n",
    "        print(\"\\nprocessing points of interest data...\")\n",
    "        \n",
    "        print(\"loading sa2 boundaries...\")\n",
    "        sa2_boundaries = gpd.read_file(\"sa2_cleaned.shp\")\n",
    "        \n",
    "        selected_sa4s = [\n",
    "            \"Sydney - Baulkham Hills and Hawkesbury\",\n",
    "            \"Sydney - Inner West\",\n",
    "            \"Sydney - Eastern Suburbs\"\n",
    "        ]\n",
    "        \n",
    "        print(f\"processing poi data for selected sa4 regions: {', '.join(selected_sa4s)}\")\n",
    "        poi_df = process_poi_for_sa2_regions(sa2_boundaries, selected_sa4s)\n",
    "        \n",
    "        if not poi_df.empty:\n",
    "            print(f\"found {len(poi_df)} points of interest across all sa2 regions\")\n",
    "            \n",
    "            print(\"\\nsample poi data:\")\n",
    "            print(poi_df.head(5))\n",
    "            \n",
    "            poi_df.to_csv(\"points_of_interest.csv\", index=False)\n",
    "            print(\"saved poi data to csv\")\n",
    "            \n",
    "            engine, conn = pgconnect(CREDENTIALS_FILE)\n",
    "            if engine is None:\n",
    "                print(\"failed to connect to the database. skipping postgresql operations.\")\n",
    "                return\n",
    "                \n",
    "            if save_poi_to_postgresql(poi_df, engine):\n",
    "                print(\"poi data successfully processed and saved.\")\n",
    "            else:\n",
    "                print(\"failed to save poi data to postgresql.\")\n",
    "        else:\n",
    "            print(\"no poi data to save.\")\n",
    "    \n",
    "    except Exception as e:\n",
    "        print(f\"error processing poi data: {e}\")\n"
   ]
  },
  {
   "cell_type": "markdown",
   "id": "97734f82",
   "metadata": {},
   "source": [
    "## 9. Main function\n"
   ]
  },
  {
   "cell_type": "code",
   "execution_count": 30,
   "id": "14fdc051",
   "metadata": {},
   "outputs": [
    {
     "name": "stdout",
     "output_type": "stream",
     "text": [
      "loading csv datasets...\n",
      "csvs loaded and cleaned.\n",
      "loading shapefiles...\n",
      "sa2 shapefile loaded.\n",
      "sa4 shapefile loaded.\n",
      "primary catchments loaded.\n",
      "secondary catchments loaded.\n",
      "future catchments loaded.\n",
      "all datasets cleaned and ready for use.\n",
      "--------------------------------------------------\n",
      "\n",
      "sample income data:\n",
      "    sa2_code    sa2_name  median_income  mean_income\n",
      "0  101021007   Braidwood        46640.0      68904.0\n",
      "1  101021008     Karabar        65564.0      69672.0\n",
      "2  101021009  Queanbeyan        63528.0      69174.0\n",
      "\n",
      "sample population data:\n",
      "    sa2_code                     sa2_name  age_0_4  age_5_9  age_10_14  \\\n",
      "0  102011028     Avoca Beach - Copacabana      424      522        623   \n",
      "1  102011029  Box Head - MacMasters Beach      511      666        702   \n",
      "2  102011030              Calga - Kulnura      200      225        258   \n",
      "\n",
      "   age_15_19  age_20_24  age_25_29  age_30_34  age_35_39  ...  age_45_49  \\\n",
      "0        552        386        222        306        416  ...        572   \n",
      "1        592        461        347        420        535  ...        749   \n",
      "2        278        274        227        214        286  ...        325   \n",
      "\n",
      "   age_50_54  age_55_59  age_60_64  age_65_69  age_70_74  age_75_79  \\\n",
      "0        602        570        520        464        369        226   \n",
      "1        749        794        895        863        925        603   \n",
      "2        436        422        397        327        264        190   \n",
      "\n",
      "   age_80_84  age_85_plus  total_population  \n",
      "0        142           70              7530  \n",
      "1        331          264             11052  \n",
      "2        100           75              4748  \n",
      "\n",
      "[3 rows x 21 columns]\n",
      "\n",
      "sample business data:\n",
      "    sa2_code    sa2_name industry_code                      industry_name  \\\n",
      "0  101021007   Braidwood             A  Agriculture, Forestry and Fishing   \n",
      "1  101021008     Karabar             A  Agriculture, Forestry and Fishing   \n",
      "2  101021009  Queanbeyan             A  Agriculture, Forestry and Fishing   \n",
      "\n",
      "   total_businesses  \n",
      "0               296  \n",
      "1                 9  \n",
      "2                15  \n",
      "\n",
      "sample stops data:\n",
      "  stop_id                          stop_name   stop_lat    stop_lon\n",
      "0  200039  Central Station, Eddy Av, Stand A -33.882206  151.206665\n",
      "1  200054  Central Station, Eddy Av, Stand D -33.882042  151.206991\n",
      "2  200060                    Central Station -33.884084  151.206292\n",
      "\n",
      "sa2 regions:\n",
      "     sa2_code                     sa2_name\n",
      "28  102011028     Avoca Beach - Copacabana\n",
      "29  102011029  Box Head - MacMasters Beach\n",
      "30  102011030              Calga - Kulnura\n",
      "\n",
      "sa4 regions:\n",
      "  sa4_code        sa4_name\n",
      "0      101  Capital Region\n",
      "1      102   Central Coast\n",
      "2      103    Central West\n",
      "\n",
      "saving all datasets to postgresql...\n",
      "connected successfully.\n",
      "sa2 boundaries table already exists in postgresql.\n",
      "successfully updated sa2 boundaries in postgresql\n",
      "found 373 valid sa2 codes in greater sydney region\n",
      "sa4 boundaries table already exists in postgresql.\n",
      "successfully updated sa4 boundaries in postgresql\n",
      "found 89 valid sa4 codes in greater sydney region\n",
      "filtered income data from 642 to 373 records (greater sydney only)\n",
      "successfully saved income data to postgresql\n",
      "filtered population data from 373 to 373 records (greater sydney only)\n",
      "successfully saved population data to postgresql\n",
      "filtered businesses data from 12217 to 7087 records (greater sydney only)\n",
      "successfully saved businesses data to postgresql\n",
      "successfully saved stops data to postgresql\n",
      "successfully saved primary school catchments to postgresql\n",
      "successfully saved secondary school catchments to postgresql\n",
      "successfully saved future school catchments to postgresql\n",
      "\n",
      "all datasets successfully saved to postgresql with proper indexing\n",
      "\n",
      "processing points of interest data...\n",
      "loading sa2 boundaries...\n",
      "processing poi data for selected sa4 regions: Sydney - Baulkham Hills and Hawkesbury, Sydney - Inner West, Sydney - Eastern Suburbs\n",
      "Processing SA2 region: Avoca Beach - Copacabana (102011028)\n",
      "Processing SA2 region: Box Head - MacMasters Beach (102011029)\n",
      "Processing SA2 region: Calga - Kulnura (102011030)\n",
      "Processing SA2 region: Erina - Green Point (102011031)\n",
      "Processing SA2 region: Gosford - Springfield (102011032)\n",
      "Processing SA2 region: Kariong (102011033)\n",
      "Processing SA2 region: Kincumber - Picketts Valley (102011034)\n",
      "Processing SA2 region: Narara (102011035)\n",
      "Processing SA2 region: Niagara Park - Lisarow (102011036)\n",
      "Processing SA2 region: Point Clare - Koolewong (102011037)\n",
      "Processing SA2 region: Saratoga - Davistown (102011038)\n",
      "Processing SA2 region: Terrigal - North Avoca (102011039)\n",
      "Processing SA2 region: Umina - Booker Bay - Patonga (102011040)\n",
      "Processing SA2 region: Wamberal - Forresters Beach (102011041)\n",
      "Processing SA2 region: Woy Woy - Blackwall (102011042)\n",
      "Processing SA2 region: Wyoming (102011043)\n",
      "Processing SA2 region: Bateau Bay - Killarney Vale (102021044)\n",
      "Processing SA2 region: Blue Haven - San Remo (102021045)\n",
      "Processing SA2 region: Budgewoi - Buff Point - Halekulani (102021046)\n",
      "Processing SA2 region: Chittaway Bay - Tumbi Umbi (102021047)\n",
      "Processing SA2 region: Gorokan - Kanwal - Charmhaven (102021048)\n",
      "Processing SA2 region: Jilliby - Yarramalong (102021049)\n",
      "Processing SA2 region: Lake Munmorah - Mannering Park (102021050)\n",
      "Processing SA2 region: Ourimbah - Fountaindale (102021051)\n",
      "Processing SA2 region: Summerland Point - Gwandalan (102021052)\n",
      "Processing SA2 region: The Entrance (102021053)\n",
      "Processing SA2 region: Toukley - Norah Head (102021054)\n",
      "Processing SA2 region: Tuggerah - Kangy Angy (102021055)\n",
      "Processing SA2 region: Warnervale - Wadalba (102021056)\n",
      "Processing SA2 region: Wyong (102021057)\n",
      "Processing SA2 region: Baulkham Hills - East (115011290)\n",
      "Processing SA2 region: Baulkham Hills (West) - Bella Vista (115011291)\n",
      "Processing SA2 region: Glenhaven (115011294)\n",
      "Processing SA2 region: West Pennant Hills (115011296)\n",
      "Processing SA2 region: Castle Hill - Central (115011553)\n",
      "Processing SA2 region: Castle Hill - East (115011554)\n",
      "Processing SA2 region: Castle Hill - North (115011555)\n",
      "Processing SA2 region: Castle Hill - South (115011556)\n",
      "Processing SA2 region: Castle Hill - West (115011557)\n",
      "Processing SA2 region: Cherrybrook (115011558)\n",
      "Processing SA2 region: Kellyville - East (115011621)\n",
      "Processing SA2 region: Kellyville - West (115011622)\n",
      "Processing SA2 region: Dural - Kenthurst - Wisemans Ferry (115021297)\n",
      "Processing SA2 region: Galston - Laughtondale (115021298)\n",
      "Processing SA2 region: Bilpin - Colo - St Albans (115031299)\n",
      "Processing SA2 region: Kurrajong Heights - Ebenezer (115031300)\n",
      "Processing SA2 region: Pitt Town - McGraths Hill (115041301)\n",
      "Processing SA2 region: Box Hill - Nelson (115041623)\n",
      "Processing SA2 region: North Kellyville (115041624)\n",
      "Processing SA2 region: Rouse Hill - Beaumont Hills (115041625)\n",
      "Processing SA2 region: Blacktown (East) - Kings Park (116011303)\n",
      "Processing SA2 region: Blacktown (North) - Marayong (116011304)\n",
      "Processing SA2 region: Doonside - Woodcroft (116011306)\n",
      "Processing SA2 region: Lalor Park - Kings Langley (116011307)\n",
      "Processing SA2 region: Blacktown - South (116011560)\n",
      "Processing SA2 region: Blacktown - West (116011561)\n",
      "Processing SA2 region: Seven Hills - Prospect (116011626)\n",
      "Processing SA2 region: Toongabbie - West (116011627)\n",
      "Processing SA2 region: Glenwood (116021309)\n",
      "Processing SA2 region: Acacia Gardens (116021562)\n",
      "Processing SA2 region: Quakers Hill (116021563)\n",
      "Processing SA2 region: Kellyville Ridge - The Ponds (116021628)\n",
      "Processing SA2 region: Marsden Park - Shanes Park (116021629)\n",
      "Processing SA2 region: Riverstone (116021630)\n",
      "Processing SA2 region: Schofields (West) - Colebee (116021631)\n",
      "Processing SA2 region: Schofields - East (116021632)\n",
      "Processing SA2 region: Stanhope Gardens - Parklea (116021633)\n",
      "Processing SA2 region: Bidwill - Hebersham - Emerton (116031313)\n",
      "Processing SA2 region: Glendenning - Dean Park (116031314)\n",
      "Processing SA2 region: Hassall Grove - Plumpton (116031315)\n",
      "Processing SA2 region: Lethbridge Park - Tregear (116031316)\n",
      "Processing SA2 region: Mount Druitt - Whalan (116031317)\n",
      "Processing SA2 region: Prospect Reservoir (116031318)\n",
      "Processing SA2 region: Rooty Hill - Minchinbury (116031319)\n",
      "Processing SA2 region: Banksmeadow (117011320)\n",
      "Processing SA2 region: Botany (117011321)\n",
      "Processing SA2 region: Pagewood - Hillsdale - Daceyville (117011323)\n",
      "Processing SA2 region: Port Botany Industrial (117011324)\n",
      "Processing SA2 region: Sydney Airport (117011325)\n",
      "Processing SA2 region: Eastlakes (117011634)\n",
      "Processing SA2 region: Mascot (117011635)\n",
      "Processing SA2 region: Petersham - Stanmore (117021327)\n",
      "Processing SA2 region: Sydenham - Tempe - St Peters (117021328)\n",
      "Processing SA2 region: Marrickville - North (117021636)\n",
      "Processing SA2 region: Marrickville - South (117021637)\n",
      "Processing SA2 region: Darlinghurst (117031329)\n",
      "Processing SA2 region: Erskineville - Alexandria (117031330)\n",
      "Processing SA2 region: Glebe - Forest Lodge (117031331)\n",
      "Processing SA2 region: Potts Point - Woolloomooloo (117031333)\n",
      "Processing SA2 region: Surry Hills (117031336)\n",
      "Processing SA2 region: Camperdown - Darlington (117031638)\n",
      "Processing SA2 region: Chippendale (117031639)\n",
      "Processing SA2 region: Newtown (NSW) (117031640)\n",
      "Processing SA2 region: Pyrmont (117031641)\n",
      "Processing SA2 region: Redfern (117031642)\n",
      "Processing SA2 region: Rosebery - Beaconsfield (117031643)\n",
      "Processing SA2 region: Sydney (North) - Millers Point (117031644)\n",
      "Processing SA2 region: Sydney (South) - Haymarket (117031645)\n",
      "Processing SA2 region: Ultimo (117031646)\n",
      "Processing SA2 region: Waterloo (117031647)\n",
      "Processing SA2 region: Zetland (117031648)\n",
      "Processing SA2 region: Bondi - Tamarama - Bronte (118011339)\n",
      "Processing SA2 region: Bondi Beach - North Bondi (118011340)\n",
      "Processing SA2 region: Bondi Junction - Waverly (118011341)\n",
      "Processing SA2 region: Centennial Park (118011342)\n",
      "Processing SA2 region: Dover Heights (118011344)\n",
      "Processing SA2 region: Paddington - Moore Park (118011345)\n",
      "Processing SA2 region: Rose Bay - Vaucluse - Watsons Bay (118011346)\n",
      "Processing SA2 region: Woollahra (118011347)\n",
      "Processing SA2 region: Bellevue Hill (118011649)\n",
      "Processing SA2 region: Double Bay - Darling Point (118011650)\n",
      "Processing SA2 region: Kensington (NSW) (118021564)\n",
      "Processing SA2 region: Kingsford (118021565)\n",
      "Processing SA2 region: Maroubra - North (118021566)\n",
      "Processing SA2 region: Maroubra - South (118021567)\n",
      "Processing SA2 region: Maroubra - West (118021568)\n",
      "Processing SA2 region: Randwick - North (118021569)\n",
      "Processing SA2 region: Randwick - South (118021570)\n",
      "Processing SA2 region: Coogee - Clovelly (118021651)\n",
      "Processing SA2 region: Malabar - La Perouse (118021652)\n",
      "Processing SA2 region: Matraville - Chifley (118021653)\n",
      "Processing SA2 region: South Coogee (118021654)\n",
      "Processing SA2 region: Bass Hill - Georges Hall (119011354)\n",
      "Processing SA2 region: Chullora (119011355)\n",
      "Processing SA2 region: Condell Park (119011356)\n",
      "Processing SA2 region: Padstow (119011358)\n",
      "Processing SA2 region: Revesby (119011360)\n",
      "Processing SA2 region: Yagoona - Birrong (119011361)\n",
      "Processing SA2 region: Bankstown - North (119011571)\n",
      "Processing SA2 region: Bankstown - South (119011572)\n",
      "Processing SA2 region: Greenacre - North (119011655)\n",
      "Processing SA2 region: Greenacre - South (119011656)\n",
      "Processing SA2 region: Panania (North) - Milperra (119011657)\n",
      "Processing SA2 region: Panania (South) - Picnic Point (119011658)\n",
      "Processing SA2 region: Belmore - Belfield (119021362)\n",
      "Processing SA2 region: Punchbowl (119021366)\n",
      "Processing SA2 region: Roselands (119021367)\n",
      "Processing SA2 region: Lakemba (119021573)\n",
      "Processing SA2 region: Wiley Park (119021574)\n",
      "Processing SA2 region: Campsie - North (119021659)\n",
      "Processing SA2 region: Campsie - South (119021660)\n",
      "Processing SA2 region: Canterbury - South (119021661)\n",
      "Processing SA2 region: Earlwood (119021662)\n",
      "Processing SA2 region: Kingsgrove - North (119021663)\n",
      "Processing SA2 region: Narwee - Beverly Hills (119031370)\n",
      "Processing SA2 region: Oatley - Hurstville Grove (119031371)\n",
      "Processing SA2 region: Peakhurst - Lugarno (119031372)\n",
      "Processing SA2 region: Riverwood (119031373)\n",
      "Processing SA2 region: South Hurstville - Blakehurst (119031374)\n",
      "Processing SA2 region: Hurstville - Central (119031664)\n",
      "Processing SA2 region: Hurstville - North (119031665)\n",
      "Processing SA2 region: Mortdale - Oatley (119031666)\n",
      "Processing SA2 region: Penshurst (119031667)\n",
      "Processing SA2 region: Kingsgrove (South) - Bardwell Park (119041377)\n",
      "Processing SA2 region: Kogarah (119041378)\n",
      "Processing SA2 region: Kogarah Bay - Carlton - Allawah (119041379)\n",
      "Processing SA2 region: Monterey - Brighton-le-Sands - Kyeemagh (119041380)\n",
      "Processing SA2 region: Rockdale - Banksia (119041381)\n",
      "Processing SA2 region: Sans Souci - Ramsgate (119041382)\n",
      "Processing SA2 region: Arncliffe - Bardwell Valley (119041668)\n",
      "Processing SA2 region: Bexley - North (119041669)\n",
      "Processing SA2 region: Bexley - South (119041670)\n",
      "Processing SA2 region: Wolli Creek (119041671)\n",
      "Processing SA2 region: Concord - Mortlake - Cabarita (120011383)\n",
      "Processing SA2 region: Drummoyne - Rodd Point (120011385)\n",
      "Processing SA2 region: Five Dock - Abbotsford (120011386)\n",
      "Processing SA2 region: Concord West - North Strathfield (120011672)\n",
      "Processing SA2 region: Rhodes (120011673)\n",
      "Processing SA2 region: Balmain (120021387)\n",
      "Processing SA2 region: Lilyfield - Rozelle (120021389)\n",
      "Processing SA2 region: Annandale (NSW) (120021674)\n",
      "Processing SA2 region: Leichhardt (120021675)\n",
      "Processing SA2 region: Canterbury (North) - Ashbury (120031392)\n",
      "Processing SA2 region: Croydon Park - Enfield (120031393)\n",
      "Processing SA2 region: Dulwich Hill - Lewisham (120031394)\n",
      "Processing SA2 region: Haberfield - Summer Hill (120031395)\n",
      "Processing SA2 region: Homebush (120031396)\n",
      "Processing SA2 region: Strathfield South (120031576)\n",
      "Processing SA2 region: Ashfield - North (120031676)\n",
      "Processing SA2 region: Ashfield - South (120031677)\n",
      "Processing SA2 region: Burwood (NSW) (120031678)\n",
      "Processing SA2 region: Croydon (120031679)\n",
      "Processing SA2 region: Strathfield - East (120031680)\n",
      "Processing SA2 region: Strathfield - West (120031681)\n",
      "Processing SA2 region: Chatswood (West) - Lane Cove North (121011399)\n",
      "Processing SA2 region: St Leonards - Naremburn (121011401)\n",
      "Processing SA2 region: Artarmon (121011682)\n",
      "Processing SA2 region: Castle Cove - Northbridge (121011683)\n",
      "Processing SA2 region: Chatswood - East (121011684)\n",
      "Processing SA2 region: Greenwich - Riverview (121011685)\n",
      "Processing SA2 region: Lane Cove (121011686)\n",
      "Processing SA2 region: Willoughby (121011687)\n",
      "Processing SA2 region: Asquith - Mount Colah (121021403)\n",
      "Processing SA2 region: Berowra - Brooklyn - Cowan (121021404)\n",
      "Processing SA2 region: Normanhurst - Thornleigh - Westleigh (121021406)\n",
      "Processing SA2 region: Hornsby - East (121021577)\n",
      "Processing SA2 region: Hornsby - West (121021578)\n",
      "Processing SA2 region: Wahroonga (West) - Waitara (121021579)\n",
      "Processing SA2 region: Gordon - Killara (121031407)\n",
      "Processing SA2 region: Lindfield - Roseville (121031408)\n",
      "Processing SA2 region: Pymble (121031409)\n",
      "Processing SA2 region: St Ives (121031410)\n",
      "Processing SA2 region: Turramurra (121031411)\n",
      "Processing SA2 region: Wahroonga (East) - Warrawee (121031412)\n",
      "Processing SA2 region: Cremorne - Cammeray (121041413)\n",
      "Processing SA2 region: Crows Nest - Waverton (121041414)\n",
      "Processing SA2 region: Neutral Bay - Kirribilli (121041416)\n",
      "Processing SA2 region: North Sydney - Lavender Bay (121041417)\n",
      "Processing SA2 region: Mosman - North (121041688)\n",
      "Processing SA2 region: Mosman - South (121041689)\n",
      "Processing SA2 region: Balgowlah - Clontarf - Seaforth (122011418)\n",
      "Processing SA2 region: Manly - Fairlight (122011419)\n",
      "Processing SA2 region: Avalon - Palm Beach (122021420)\n",
      "Processing SA2 region: Bayview - Elanora Heights (122021421)\n",
      "Processing SA2 region: Newport - Bilgola (122021422)\n",
      "Processing SA2 region: Mona Vale - Warriewood (North) (122021690)\n",
      "Processing SA2 region: North Narrabeen - Warriewood (South) (122021691)\n",
      "Processing SA2 region: Beacon Hill - Narraweena (122031424)\n",
      "Processing SA2 region: Cromer (122031425)\n",
      "Processing SA2 region: Forestville - Killarney Heights (122031427)\n",
      "Processing SA2 region: Freshwater - Brookvale (122031429)\n",
      "Processing SA2 region: Manly Vale - Allambie Heights (122031430)\n",
      "Processing SA2 region: Terrey Hills - Duffys Forest (122031432)\n",
      "Processing SA2 region: Belrose (122031692)\n",
      "Processing SA2 region: Collaroy - Collaroy Plateau (122031693)\n",
      "Processing SA2 region: Dee Why (South) - North Curl Curl (122031694)\n",
      "Processing SA2 region: Dee Why - North (122031695)\n",
      "Processing SA2 region: Frenchs Forest - Oxford Falls (122031696)\n",
      "Processing SA2 region: Narrabeen - Wheeler Heights (122031697)\n",
      "Processing SA2 region: Camden - Ellis Lane (123011433)\n",
      "Processing SA2 region: Currans Hill (123011698)\n",
      "Processing SA2 region: Elderslie - Narellan (123011699)\n",
      "Processing SA2 region: Harrington Park (123011700)\n",
      "Processing SA2 region: Mount Annan (123011701)\n",
      "Processing SA2 region: Spring Farm (123011702)\n",
      "Processing SA2 region: Bradbury - Wedderburn (123021436)\n",
      "Processing SA2 region: Campbelltown - Woodbine (123021437)\n",
      "Processing SA2 region: Claymore - Eagle Vale - Raby (123021438)\n",
      "Processing SA2 region: Holsworthy Military Area (123021439)\n",
      "Processing SA2 region: Leumeah - Minto Heights (123021441)\n",
      "Processing SA2 region: Minto - St Andrews (123021443)\n",
      "Processing SA2 region: Rosemeadow - Glen Alpine (123021444)\n",
      "Processing SA2 region: Denham Court - Bardia (123021703)\n",
      "Processing SA2 region: Glenfield (123021704)\n",
      "Processing SA2 region: Ingleburn (123021705)\n",
      "Processing SA2 region: Macquarie Fields (123021706)\n",
      "Processing SA2 region: Bargo (123031445)\n",
      "Processing SA2 region: Douglas Park - Appin (123031446)\n",
      "Processing SA2 region: Picton - Tahmoor - Buxton (123031447)\n",
      "Processing SA2 region: The Oaks - Oakdale (123031448)\n",
      "Processing SA2 region: Blackheath - Megalong Valley (124011449)\n",
      "Processing SA2 region: Blaxland - Warrimoo - Lapstone (124011450)\n",
      "Processing SA2 region: Blue Mountains - North (124011451)\n",
      "Processing SA2 region: Katoomba - Leura (124011452)\n",
      "Processing SA2 region: Lawson - Hazelbrook - Linden (124011453)\n",
      "Processing SA2 region: Springwood - Winmalee (124011454)\n",
      "Processing SA2 region: Wentworth Falls (124011455)\n",
      "Processing SA2 region: Blue Mountains - South (124021456)\n",
      "Processing SA2 region: Cambridge Park (124031457)\n",
      "Processing SA2 region: Emu Plains - Leonay (124031459)\n",
      "Processing SA2 region: Glenmore Park - Regentville (124031460)\n",
      "Processing SA2 region: Jamisontown - South Penrith (124031461)\n",
      "Processing SA2 region: Kingswood - Werrington (124031462)\n",
      "Processing SA2 region: Mulgoa - Luddenham - Orchard Hills (124031463)\n",
      "Processing SA2 region: Penrith (124031464)\n",
      "Processing SA2 region: Warragamba - Silverdale (124031465)\n",
      "Processing SA2 region: Cranebrook - Castlereagh (124031707)\n",
      "Processing SA2 region: Jordan Springs - Llandilo (124031708)\n",
      "Processing SA2 region: Richmond - Clarendon (124041466)\n",
      "Processing SA2 region: Windsor - Bligh Park (124041467)\n",
      "Processing SA2 region: Yarramundi - Londonderry (124041468)\n",
      "Processing SA2 region: Erskine Park (124051469)\n",
      "Processing SA2 region: St Clair (124051470)\n",
      "Processing SA2 region: Colyton - Oxley Park (124051580)\n",
      "Processing SA2 region: St Marys - North St Marys (124051581)\n",
      "Processing SA2 region: Rookwood Cemetery (125011475)\n",
      "Processing SA2 region: Auburn - Central (125011582)\n",
      "Processing SA2 region: Auburn - North (125011583)\n",
      "Processing SA2 region: Auburn - South (125011584)\n",
      "Processing SA2 region: Berala (125011585)\n",
      "Processing SA2 region: Lidcombe (125011586)\n",
      "Processing SA2 region: Regents Park (125011587)\n",
      "Processing SA2 region: Silverwater - Newington (125011709)\n",
      "Processing SA2 region: Wentworth Point - Sydney Olympic Park (125011710)\n",
      "Processing SA2 region: Ermington - Rydalmere (125021477)\n",
      "Processing SA2 region: Oatlands - Dundas Valley (125021478)\n",
      "Processing SA2 region: Carlingford - East (125021711)\n",
      "Processing SA2 region: Carlingford - West (125021712)\n",
      "Processing SA2 region: Chester Hill - Sefton (125031479)\n",
      "Processing SA2 region: Fairfield - East (125031480)\n",
      "Processing SA2 region: Granville - Clyde (125031481)\n",
      "Processing SA2 region: Guildford - South Granville (125031483)\n",
      "Processing SA2 region: Guildford West - Merrylands West (125031484)\n",
      "Processing SA2 region: Smithfield Industrial (125031486)\n",
      "Processing SA2 region: Yennora Industrial (125031487)\n",
      "Processing SA2 region: Greystanes - South (125031713)\n",
      "Processing SA2 region: Merrylands - Holroyd (125031714)\n",
      "Processing SA2 region: Pemulwuy - Greystanes (North) (125031715)\n",
      "Processing SA2 region: South Wentworthville (125031716)\n",
      "Processing SA2 region: North Parramatta (125041489)\n",
      "Processing SA2 region: North Rocks (125041490)\n",
      "Processing SA2 region: Northmead (125041491)\n",
      "Processing SA2 region: Toongabbie - Constitution Hill (125041493)\n",
      "Processing SA2 region: Winston Hills (125041494)\n",
      "Processing SA2 region: Pendle Hill - Girraween (125041588)\n",
      "Processing SA2 region: Wentworthville - Westmead (125041589)\n",
      "Processing SA2 region: Parramatta - North (125041717)\n",
      "Processing SA2 region: Parramatta - South (125041718)\n",
      "Processing SA2 region: Rosehill - Harris Park (125041719)\n",
      "Processing SA2 region: Pennant Hills - Cheltenham (126011496)\n",
      "Processing SA2 region: Epping (East) - North Epping (126011720)\n",
      "Processing SA2 region: Epping (NSW) - West (126011721)\n",
      "Processing SA2 region: Gladesville - Huntleys Point (126021498)\n",
      "Processing SA2 region: Hunters Hill - Woolwich (126021499)\n",
      "Processing SA2 region: Macquarie Park - Marsfield (126021500)\n",
      "Processing SA2 region: North Ryde - East Ryde (126021501)\n",
      "Processing SA2 region: West Ryde - Meadowbank (126021503)\n",
      "Processing SA2 region: Putney (126021590)\n",
      "Processing SA2 region: Denistone (126021722)\n",
      "Processing SA2 region: Eastwood (126021723)\n",
      "Processing SA2 region: Ryde - North (126021724)\n",
      "Processing SA2 region: Ryde - South (126021725)\n",
      "Processing SA2 region: Ashcroft - Busby - Miller (127011504)\n",
      "Processing SA2 region: Austral - Greendale (127011505)\n",
      "Processing SA2 region: Badgerys Creek (127011592)\n",
      "Processing SA2 region: Cecil Hills (127011593)\n",
      "Processing SA2 region: Green Valley (127011594)\n",
      "Processing SA2 region: Hinchinbrook (127011595)\n",
      "Processing SA2 region: Hoxton Park - Carnes Hill - Horningsea Park (127011596)\n",
      "Processing SA2 region: West Hoxton - Middleton Grange (127011597)\n",
      "Processing SA2 region: Cobbitty - Bringelly (127011726)\n",
      "Processing SA2 region: Gledswood Hills - Gregory Hills (127011727)\n",
      "Processing SA2 region: Leppington - Catherine Field (127011728)\n",
      "Processing SA2 region: Oran Park (127011729)\n",
      "Processing SA2 region: Bonnyrigg Heights - Bonnyrigg (127021509)\n",
      "Processing SA2 region: Bossley Park - Abbotsbury (127021510)\n",
      "Processing SA2 region: Cabramatta - Lansvale (127021511)\n",
      "Processing SA2 region: Cabramatta West - Mount Pritchard (127021512)\n",
      "Processing SA2 region: Canley Vale - Canley Heights (127021513)\n",
      "Processing SA2 region: Edensor Park (127021514)\n",
      "Processing SA2 region: Fairfield (127021515)\n",
      "Processing SA2 region: Fairfield - West (127021516)\n",
      "Processing SA2 region: Greenfield Park - Prairiewood (127021517)\n",
      "Processing SA2 region: Horsley Park - Kemps Creek (127021518)\n",
      "Processing SA2 region: Smithfield - Wetherill Park (127021519)\n",
      "Processing SA2 region: St Johns Park - Wakeley (127021520)\n",
      "Processing SA2 region: Wetherill Park Industrial (127021521)\n",
      "Processing SA2 region: Casula (127031522)\n",
      "Processing SA2 region: Chipping Norton - Moorebank (127031523)\n",
      "Processing SA2 region: Holsworthy - Wattle Grove (127031524)\n",
      "Processing SA2 region: Lurnea - Cartwright (127031599)\n",
      "Processing SA2 region: Warwick Farm (127031601)\n",
      "Processing SA2 region: Edmondson Park (127031730)\n",
      "Processing SA2 region: Liverpool - East (127031731)\n",
      "Processing SA2 region: Liverpool - West (127031732)\n",
      "Processing SA2 region: Prestons (127031733)\n",
      "Processing SA2 region: Gymea - Grays Point (128011529)\n",
      "Processing SA2 region: Miranda - Yowie Bay (128011530)\n",
      "Processing SA2 region: Sylvania - Taren Point (128011531)\n",
      "Processing SA2 region: Caringbah (128011602)\n",
      "Processing SA2 region: Caringbah South (128011603)\n",
      "Processing SA2 region: Cronulla - Kurnell - Bundeena (128011604)\n",
      "Processing SA2 region: Lilli Pilli - Port Hacking - Dolans Bay (128011605)\n",
      "Processing SA2 region: Woolooware - Burraneer (128011606)\n",
      "Processing SA2 region: Heathcote - Waterfall (128021533)\n",
      "Processing SA2 region: Illawong - Alfords Point (128021534)\n",
      "Processing SA2 region: Menai - Lucas Heights - Woronora (128021535)\n",
      "Processing SA2 region: Oyster Bay - Como - Jannali (128021536)\n",
      "Processing SA2 region: Royal National Park (128021537)\n",
      "Processing SA2 region: Sutherland - Kirrawee (128021538)\n",
      "Processing SA2 region: Engadine (128021607)\n",
      "Processing SA2 region: Loftus - Yarrawarrah (128021608)\n",
      "Processing SA2 region: Woronora Heights (128021609)\n",
      "found 28464 points of interest across all sa2 regions\n",
      "\n",
      "sample poi data:\n",
      "   poi_id  poi_group                     poi_type  \\\n",
      "0    9611          3                 Sports Field   \n",
      "1    9612          3                         Park   \n",
      "2    9613          1  Tourist Park / Home Village   \n",
      "3    9614          3                      Lookout   \n",
      "4    9679          3                         Park   \n",
      "\n",
      "                        poi_name                      poi_label   sa2_code  \\\n",
      "0                  HEAZLETT PARK                  HEAZLETT PARK  102011028   \n",
      "1                      ROSS PARK                      ROSS PARK  102011028   \n",
      "2             THE PALMS AT AVOCA             THE PALMS AT AVOCA  102011028   \n",
      "3  CAPTAIN COOK MEMORIAL LOOKOUT  CAPTAIN COOK MEMORIAL LOOKOUT  102011028   \n",
      "4                    HUNTER PARK                    HUNTER PARK  102011028   \n",
      "\n",
      "                   sa2_name   longitude   latitude  \n",
      "0  Avoca Beach - Copacabana  151.431699 -33.464076  \n",
      "1  Avoca Beach - Copacabana  151.437242 -33.470957  \n",
      "2  Avoca Beach - Copacabana  151.426727 -33.476556  \n",
      "3  Avoca Beach - Copacabana  151.443988 -33.488529  \n",
      "4  Avoca Beach - Copacabana  151.436251 -33.471136  \n",
      "saved poi data to csv\n",
      "connected successfully.\n",
      "successfully saved 28464 points of interest to postgresql\n",
      "added indexes to points_of_interest table\n",
      "poi data successfully processed and saved.\n",
      "Done!!\n"
     ]
    }
   ],
   "source": [
    "def main():\n",
    "    \"\"\"main function to execute the data processing workflow\"\"\"\n",
    "    print(\"loading csv datasets...\")\n",
    "    warnings.filterwarnings('ignore')\n",
    "    try:\n",
    "        # load and clean all datasets\n",
    "        income = pd.read_csv(\"Income.csv\")\n",
    "        population = pd.read_csv(\"Population.csv\")\n",
    "        businesses = pd.read_csv(\"Businesses.csv\")\n",
    "        stops = pd.read_csv(\"stops.csv\")\n",
    "        \n",
    "        income_cleaned = clean_income(income)\n",
    "        population_cleaned = clean_population(population)\n",
    "        businesses_cleaned = clean_businesses(businesses)\n",
    "        stops_cleaned = clean_stops(stops)\n",
    "        print(\"csvs loaded and cleaned.\")\n",
    "        \n",
    "        print(\"loading shapefiles...\")\n",
    "        sa2 = clean_sa2_boundaries(\"SA2_2021_AUST_GDA2020.shp\")\n",
    "        print(\"sa2 shapefile loaded.\")\n",
    "\n",
    "        sa4 = clean_sa4_boundaries(\"SA4_2021_AUST_GDA94.shp\")\n",
    "        print(\"sa4 shapefile loaded.\")\n",
    "        \n",
    "        \n",
    "        primary = clean_catchments(\"./catchments/catchments_primary.shp\")\n",
    "        print(\"primary catchments loaded.\")\n",
    "        \n",
    "        secondary = clean_catchments(\"./catchments/catchments_secondary.shp\")\n",
    "        print(\"secondary catchments loaded.\")\n",
    "        \n",
    "        future = clean_catchments(\"./catchments/catchments_future.shp\")\n",
    "        print(\"future catchments loaded.\")\n",
    "        \n",
    "        print(\"all datasets cleaned and ready for use.\")\n",
    "        print(\"-\" * 50)\n",
    "        \n",
    "        # display sample data\n",
    "        print(\"\\nsample income data:\")\n",
    "        print(income_cleaned.head(3))\n",
    "        \n",
    "        print(\"\\nsample population data:\")\n",
    "        print(population_cleaned.head(3))\n",
    "        \n",
    "        print(\"\\nsample business data:\")\n",
    "        print(businesses_cleaned.head(3))\n",
    "        \n",
    "        print(\"\\nsample stops data:\")\n",
    "        print(stops_cleaned.head(3))\n",
    "        \n",
    "        print(\"\\nsa2 regions:\")\n",
    "        print(sa2[[\"sa2_code\", \"sa2_name\"]].head(3))\n",
    "\n",
    "        print(\"\\nsa4 regions:\")\n",
    "        print(sa4[[\"sa4_code\", \"sa4_name\"]].head(3))\n",
    "        \n",
    "        # save cleaned data to files and postgresql\n",
    "        save_cleaned_data(income_cleaned, population_cleaned, businesses_cleaned, stops_cleaned, sa2, primary, secondary, future , sa4)\n",
    "        \n",
    "        # process points of interest data\n",
    "        process_poi_data()\n",
    "\n",
    "        print(\"Done!!\")\n",
    "        \n",
    "    except Exception as e:\n",
    "        print(f\"error in main workflow: {e}\")\n",
    "\n",
    "\n",
    "if __name__ == \"__main__\":\n",
    "    main()\n"
   ]
  },
  {
   "cell_type": "markdown",
   "id": "cea57910-2452-4df1-9b48-26d2725bacd3",
   "metadata": {},
   "source": [
    "## Finding all SA2 Regions for Each SA4"
   ]
  },
  {
   "cell_type": "markdown",
   "id": "a8075fbf-db43-45db-8a57-dc868b08bc7b",
   "metadata": {},
   "source": [
    "To create a pipeline to compute a \"well-resourced score\" for each SA2 region within the SA4 region (Inner West, Eastern Suburbs, Baulkham Hills and Hawkesbury)"
   ]
  },
  {
   "cell_type": "markdown",
   "id": "19adbf5f-5f3c-4ee2-87b3-dba42c83fc35",
   "metadata": {},
   "source": [
    "### For Inner West"
   ]
  },
  {
   "cell_type": "markdown",
   "id": "4b5644ce-8fc4-4ada-90d0-c6ebbc9e7dda",
   "metadata": {},
   "source": [
    "First, we start off by filtering SA2s within a chosen SA4 using spatial joins\n",
    "\n",
    "Using `ST_Within`, we extract SA2 geometries entirely contained in the \"Sydney - Inner West\" SA4 boundary."
   ]
  },
  {
   "cell_type": "markdown",
   "id": "9ad5b219-398a-4b9b-87e4-2cdf1d3a8d0b",
   "metadata": {},
   "source": [
    "Following which we aggregate the data (population, businesses, transport stops, POIs)"
   ]
  },
  {
   "cell_type": "code",
   "execution_count": 37,
   "id": "44670aab-4322-4a32-9d9c-eedf1344a2a5",
   "metadata": {},
   "outputs": [
    {
     "name": "stdout",
     "output_type": "stream",
     "text": [
      "\n",
      "Reading Entries from PostgreSQL with read_sql_query...\n",
      "\n",
      "connected successfully.\n",
      "SA2 Regions in Inner-west:\n",
      "\n",
      "              sa2_name  sa2_code                                   coordinates\n",
      "         Burwood (NSW) 120031678 POINT(151.10210693314536 -33.878159066172785)\n",
      "    Strathfield - East 120031680  POINT(151.0911084551937 -33.878709357843135)\n",
      "               Croydon 120031679   POINT(151.11470335262732 -33.8781055853054)\n",
      "            Leichhardt 120021675    POINT(151.155973902597 -33.88158843585491)\n",
      "Croydon Park - Enfield 120031393  POINT(151.10286951872982 -33.89455704513966)\n",
      "      Ashfield - North 120031676  POINT(151.12783284057073 -33.88283983177404)\n",
      "      Ashfield - South 120031677  POINT(151.12530579156768 -33.89481923556039)\n"
     ]
    }
   ],
   "source": [
    "try:\n",
    "    print(\"\\nReading Entries from PostgreSQL with read_sql_query...\\n\")\n",
    "    engine, conn = pgconnect(CREDENTIALS_FILE)\n",
    "    if engine is None:\n",
    "        print(\"Failed to connect to the database. Skipping PostgreSQL operations.\\n\")\n",
    "    else:\n",
    "        query = '''\n",
    "        SELECT sa2.sa2_name, sa2.sa2_code, ST_AsText(ST_Centroid(sa2.geometry)) AS Coordinates\n",
    "        FROM sa2_boundaries sa2\n",
    "        JOIN sa4_boundaries sa4\n",
    "          ON ST_Within(sa2.geometry, sa4.geometry)\n",
    "        WHERE sa4.sa4_name = 'Sydney - Inner West';\n",
    "        '''\n",
    "\n",
    "        # Run query and load result into a DataFrame\n",
    "        df = pd.read_sql_query(query, con=engine)\n",
    "\n",
    "        # Optionally show result as text-based table\n",
    "        print(\"SA2 Regions in Inner-west:\")\n",
    "        print()\n",
    "        print(df.to_string(index=False))\n",
    "\n",
    "except Exception as e:\n",
    "    print(\"Error during PostgreSQL operation:\", e)"
   ]
  },
  {
   "cell_type": "markdown",
   "id": "87905778-83e5-443a-a2b9-ba094f48838a",
   "metadata": {},
   "source": [
    "Next we merge the datasets provided (stops, businesses, population & POIs) and join them to the above table"
   ]
  },
  {
   "cell_type": "code",
   "execution_count": 40,
   "id": "9de4d908-aeb3-4b86-9b8e-5468362dcb1f",
   "metadata": {},
   "outputs": [
    {
     "name": "stdout",
     "output_type": "stream",
     "text": [
      "\n",
      "Reading Entries from PostgreSQL with read_sql_query...\n",
      "\n",
      "connected successfully.\n",
      "Total Stops, Points of Interest, Businesses, population in each region: \n",
      "\n",
      "              sa2_name  stops  population  business  poi\n",
      "      Ashfield - North     69       11508     737.0   32\n",
      "         Burwood (NSW)     74       16048    2842.0   87\n",
      "      Ashfield - South    107       12274    1146.0   57\n",
      "    Strathfield - East    114       16583    2235.0   53\n",
      "Croydon Park - Enfield    114       17459    1614.0   79\n",
      "            Leichhardt     96       17630    2245.0  192\n",
      "               Croydon     94       10997    1063.0   53\n"
     ]
    }
   ],
   "source": [
    "try:\n",
    "    print(\"\\nReading Entries from PostgreSQL with read_sql_query...\\n\")\n",
    "    engine, conn = pgconnect(CREDENTIALS_FILE)\n",
    "    if engine is None:\n",
    "        print(\"Failed to connect to the database. Skipping PostgreSQL operations.\\n\")\n",
    "    else:\n",
    "        query = '''\n",
    "        WITH sa2_filtered AS (\n",
    "          SELECT sa2.*\n",
    "          FROM sa2_boundaries sa2\n",
    "          JOIN sa4_boundaries sa4\n",
    "            ON ST_Within(sa2.geometry, sa4.geometry)\n",
    "          WHERE sa4.sa4_name = 'Sydney - Inner West'\n",
    "        ),\n",
    "        stops_count AS (\n",
    "          SELECT sa2_name, COUNT(*) AS stop_count\n",
    "          FROM stops s\n",
    "          JOIN sa2_boundaries sa2 ON ST_Within(s.geometry, sa2.geometry)\n",
    "          GROUP BY sa2_name\n",
    "        ),\n",
    "        poi_count AS (\n",
    "          SELECT sa2_name, COUNT(*) AS poi_count\n",
    "          FROM points_of_interest\n",
    "          GROUP BY sa2_name\n",
    "        ),\n",
    "        business_sum AS (\n",
    "          SELECT sa2_name, SUM(total_businesses) AS business_total\n",
    "          FROM businesses\n",
    "          GROUP BY sa2_name\n",
    "        ),\n",
    "        population_data AS (\n",
    "          SELECT sa2_name, MAX(total_population) AS population\n",
    "          FROM population\n",
    "          GROUP BY sa2_name\n",
    "        )\n",
    "        \n",
    "        SELECT \n",
    "          sa2.sa2_name,\n",
    "          COALESCE(sc.stop_count, 0) AS stops,\n",
    "          COALESCE(p.population, 0) AS population,\n",
    "          COALESCE(b.business_total, 0) AS business,\n",
    "          COALESCE(pc.poi_count, 0) AS poi\n",
    "        FROM sa2_filtered sa2\n",
    "        LEFT JOIN stops_count sc ON sa2.sa2_name = sc.sa2_name\n",
    "        LEFT JOIN poi_count pc ON sa2.sa2_name = pc.sa2_name\n",
    "        LEFT JOIN business_sum b ON sa2.sa2_name = b.sa2_name\n",
    "        LEFT JOIN population_data p ON sa2.sa2_name = p.sa2_name\n",
    "        WHERE population >= 100;\n",
    "        '''\n",
    "\n",
    "        # Run query and load result into a DataFrame\n",
    "        df = pd.read_sql_query(query, con=engine)\n",
    "\n",
    "        # Optionally show result as text-based table\n",
    "        print(\"Total Stops, Points of Interest, Businesses, population in each region: \")\n",
    "        print()\n",
    "        print(df.to_string(index=False))\n",
    "\n",
    "except Exception as e:\n",
    "    print(\"Error during PostgreSQL operation:\", e)"
   ]
  },
  {
   "cell_type": "code",
   "execution_count": 42,
   "id": "5bb54e5e-d898-43ae-8813-829af0877791",
   "metadata": {},
   "outputs": [
    {
     "name": "stdout",
     "output_type": "stream",
     "text": [
      "\n",
      "Reading Entries from PostgreSQL with read_sql_query...\n",
      "\n",
      "connected successfully.\n",
      "Sigmaoid Function and Well_resourced score for each region:\n",
      "\n",
      "              sa2_name  sigmoid_business  sigmoid_stops  sigmoid_poi  well_resourced_score\n",
      "            Leichhardt             0.684          0.508        0.909                 0.957\n",
      "    Strathfield - East             0.681          0.751        0.371                 0.791\n",
      "Croydon Park - Enfield             0.471          0.751        0.500                 0.728\n",
      "         Burwood (NSW)             0.834          0.219        0.541                 0.623\n",
      "      Ashfield - South             0.315          0.665        0.390                 0.369\n",
      "               Croydon             0.291          0.479        0.371                 0.181\n",
      "      Ashfield - North             0.206          0.172        0.277                 0.020\n"
     ]
    }
   ],
   "source": [
    "try:\n",
    "    print(\"\\nReading Entries from PostgreSQL with read_sql_query...\\n\")\n",
    "    engine, conn = pgconnect(CREDENTIALS_FILE)\n",
    "    if engine is None:\n",
    "        print(\"Failed to connect to the database. Skipping PostgreSQL operations.\\n\")\n",
    "    else:\n",
    "        query = '''\n",
    "        WITH base_data AS (\n",
    "          WITH sa2_filtered AS (\n",
    "            SELECT sa2.*\n",
    "            FROM sa2_boundaries sa2\n",
    "            JOIN sa4_boundaries sa4 ON ST_Within(sa2.geometry, sa4.geometry)\n",
    "            WHERE sa4.sa4_name = 'Sydney - Inner West'\n",
    "          ),\n",
    "          stops_count AS (\n",
    "            SELECT sa2_name, COUNT(*) AS stops\n",
    "            FROM stops s\n",
    "            JOIN sa2_boundaries sa2 ON ST_Within(s.geometry, sa2.geometry)\n",
    "            GROUP BY sa2_name\n",
    "          ),\n",
    "          poi_count AS (\n",
    "            SELECT sa2_name, COUNT(*) AS poi\n",
    "            FROM points_of_interest\n",
    "            GROUP BY sa2_name\n",
    "          ),\n",
    "          business_sum AS (\n",
    "            SELECT sa2_name, SUM(total_businesses) AS business\n",
    "            FROM businesses\n",
    "            GROUP BY sa2_name\n",
    "          ),\n",
    "          population_data AS (\n",
    "            SELECT sa2_name, MAX(total_population) AS population\n",
    "            FROM population\n",
    "            GROUP BY sa2_name\n",
    "          )\n",
    "          SELECT \n",
    "            sa2.sa2_name,\n",
    "            COALESCE(sc.stops, 0) AS stops,\n",
    "            COALESCE(p.population, 0) AS population,\n",
    "            COALESCE(b.business, 0) AS business,\n",
    "            COALESCE(pc.poi, 0) AS poi\n",
    "          FROM sa2_filtered sa2\n",
    "          LEFT JOIN stops_count sc ON sa2.sa2_name = sc.sa2_name\n",
    "          LEFT JOIN poi_count pc ON sa2.sa2_name = pc.sa2_name\n",
    "          LEFT JOIN business_sum b ON sa2.sa2_name = b.sa2_name\n",
    "          LEFT JOIN population_data p ON sa2.sa2_name = p.sa2_name\n",
    "          WHERE population >= 100\n",
    "        ),\n",
    "        z_scores AS (\n",
    "          SELECT *,\n",
    "            (business - AVG(business) OVER()) / NULLIF(STDDEV_POP(business) OVER(), 0) AS z_business,\n",
    "            (stops - AVG(stops) OVER()) / NULLIF(STDDEV_POP(stops) OVER(), 0) AS z_stops,\n",
    "            (poi - AVG(poi) OVER()) / NULLIF(STDDEV_POP(poi) OVER(), 0) AS z_poi\n",
    "          FROM base_data\n",
    "          WHERE population >= 100 -- Optional: exclude underpopulated regions\n",
    "        ),\n",
    "        sigmoid_scores AS (\n",
    "          -- Step 3: Apply sigmoid function: 1 / (1 + exp(-z))\n",
    "          SELECT *,\n",
    "            1 / (1 + EXP(-z_business)) AS s_business,\n",
    "            1 / (1 + EXP(-z_stops)) AS s_stops,\n",
    "            1 / (1 + EXP(-z_poi)) AS s_poi,\n",
    "            1 / (1 + EXP(-(z_business + z_stops + z_poi))) AS final_score\n",
    "          FROM z_scores\n",
    "        )\n",
    "        \n",
    "        SELECT \n",
    "          sa2_name,\n",
    "          ROUND(s_business, 3) AS sigmoid_business,\n",
    "          ROUND(s_stops, 3) AS sigmoid_stops,\n",
    "          ROUND(s_poi, 3) AS sigmoid_poi,\n",
    "          ROUND(final_score, 3) AS well_resourced_score\n",
    "        FROM sigmoid_scores\n",
    "        ORDER BY final_score DESC;\n",
    "        '''\n",
    "\n",
    "        # Run query and load result into a DataFrame\n",
    "        df = pd.read_sql_query(query, con=engine)\n",
    "\n",
    "        # Optionally show result as text-based table\n",
    "        print(\"Sigmaoid Function and Well_resourced score for each region:\")\n",
    "        print()\n",
    "        print(df.to_string(index=False))\n",
    "\n",
    "except Exception as e:\n",
    "    print(\"Error during PostgreSQL operation:\", e)"
   ]
  },
  {
   "cell_type": "markdown",
   "id": "9a44dac8-a8c8-40d4-a757-be1e24bd569a",
   "metadata": {},
   "source": [
    "After this we repeat the above steps for the remaining SA4 Regions!"
   ]
  },
  {
   "cell_type": "markdown",
   "id": "3644d316-d0ce-4e72-92cf-e1360d2a7fb8",
   "metadata": {},
   "source": [
    "### Eastern Suburbs"
   ]
  },
  {
   "cell_type": "code",
   "execution_count": 46,
   "id": "41c92655-b133-483e-8f49-88af6314c5bd",
   "metadata": {},
   "outputs": [
    {
     "name": "stdout",
     "output_type": "stream",
     "text": [
      "\n",
      "Reading Entries from PostgreSQL with read_sql_query...\n",
      "\n",
      "connected successfully.\n",
      "SA2 Regions in Eastern Suburbs: \n",
      "\n",
      "                sa2_name  sa2_code                                   coordinates\n",
      "Bondi Junction - Waverly 118011341  POINT(151.2507948230986 -33.897169250323245)\n",
      "         Centennial Park 118011342  POINT(151.23426118299068 -33.89834855710218)\n",
      "               Woollahra 118011347 POINT(151.24367539116128 -33.886781622742994)\n",
      "               Kingsford 118021565     POINT(151.228966941633 -33.9251427768126)\n",
      "        Randwick - North 118021569   POINT(151.24414969718558 -33.9080643519631)\n",
      "        Randwick - South 118021570 POINT(151.23934352439906 -33.919740288085976)\n"
     ]
    }
   ],
   "source": [
    "try:\n",
    "    print(\"\\nReading Entries from PostgreSQL with read_sql_query...\\n\")\n",
    "    engine, conn = pgconnect(CREDENTIALS_FILE)\n",
    "    if engine is None:\n",
    "        print(\"Failed to connect to the database. Skipping PostgreSQL operations.\\n\")\n",
    "    else:\n",
    "        query = '''\n",
    "        SELECT sa2.sa2_name, sa2.sa2_code, ST_AsText(ST_Centroid(sa2.geometry)) AS Coordinates\n",
    "        FROM sa2_boundaries sa2\n",
    "        JOIN sa4_boundaries sa4\n",
    "          ON ST_Within(sa2.geometry, sa4.geometry)\n",
    "        WHERE sa4.sa4_name = 'Sydney - Eastern Suburbs';\n",
    "        '''\n",
    "\n",
    "        # Run query and load result into a DataFrame\n",
    "        df = pd.read_sql_query(query, con=engine)\n",
    "\n",
    "        # Optionally show result as text-based table\n",
    "        print(\"SA2 Regions in Eastern Suburbs: \")\n",
    "        print()\n",
    "        print(df.to_string(index=False))\n",
    "\n",
    "except Exception as e:\n",
    "    print(\"Error during PostgreSQL operation:\", e)"
   ]
  },
  {
   "cell_type": "code",
   "execution_count": 48,
   "id": "92fb0492-0638-4048-8359-5edfd4b16252",
   "metadata": {},
   "outputs": [
    {
     "name": "stdout",
     "output_type": "stream",
     "text": [
      "\n",
      "Reading Entries from PostgreSQL with read_sql_query...\n",
      "\n",
      "connected successfully.\n",
      "Total Stops, Points of Interest, Businesses, population in each region: \n",
      "\n",
      "                sa2_name  stops  population  business  poi\n",
      "        Randwick - North    110       16293    1620.0   43\n",
      "        Randwick - South    129       12837    1485.0   51\n",
      "               Woollahra     53        7486    1372.0   34\n",
      "Bondi Junction - Waverly    144       17866    4646.0   77\n",
      "               Kingsford     89       13775    1161.0   17\n"
     ]
    }
   ],
   "source": [
    "try:\n",
    "    print(\"\\nReading Entries from PostgreSQL with read_sql_query...\\n\")\n",
    "    engine, conn = pgconnect(CREDENTIALS_FILE)\n",
    "    if engine is None:\n",
    "        print(\"Failed to connect to the database. Skipping PostgreSQL operations.\\n\")\n",
    "    else:\n",
    "        query = '''\n",
    "        WITH sa2_filtered AS (\n",
    "          SELECT sa2.*\n",
    "          FROM sa2_boundaries sa2\n",
    "          JOIN sa4_boundaries sa4\n",
    "            ON ST_Within(sa2.geometry, sa4.geometry)\n",
    "          WHERE sa4.sa4_name = 'Sydney - Eastern Suburbs'\n",
    "        ),\n",
    "        stops_count AS (\n",
    "          SELECT sa2_name, COUNT(*) AS stop_count\n",
    "          FROM stops s\n",
    "          JOIN sa2_boundaries sa2 ON ST_Within(s.geometry, sa2.geometry)\n",
    "          GROUP BY sa2_name\n",
    "        ),\n",
    "        poi_count AS (\n",
    "          SELECT sa2_name, COUNT(*) AS poi_count\n",
    "          FROM points_of_interest\n",
    "          GROUP BY sa2_name\n",
    "        ),\n",
    "        business_sum AS (\n",
    "          SELECT sa2_name, SUM(total_businesses) AS business_total\n",
    "          FROM businesses\n",
    "          GROUP BY sa2_name\n",
    "        ),\n",
    "        population_data AS (\n",
    "          SELECT sa2_name, MAX(total_population) AS population\n",
    "          FROM population\n",
    "          GROUP BY sa2_name\n",
    "        )\n",
    "        \n",
    "        SELECT \n",
    "          sa2.sa2_name,\n",
    "          COALESCE(sc.stop_count, 0) AS stops,\n",
    "          COALESCE(p.population, 0) AS population,\n",
    "          COALESCE(b.business_total, 0) AS business,\n",
    "          COALESCE(pc.poi_count, 0) AS poi\n",
    "        FROM sa2_filtered sa2\n",
    "        LEFT JOIN stops_count sc ON sa2.sa2_name = sc.sa2_name\n",
    "        LEFT JOIN poi_count pc ON sa2.sa2_name = pc.sa2_name\n",
    "        LEFT JOIN business_sum b ON sa2.sa2_name = b.sa2_name\n",
    "        LEFT JOIN population_data p ON sa2.sa2_name = p.sa2_name\n",
    "        WHERE population >= 100;\n",
    "        '''\n",
    "\n",
    "        # Run query and load result into a DataFrame\n",
    "        df = pd.read_sql_query(query, con=engine)\n",
    "\n",
    "        # Optionally show result as text-based table\n",
    "        print(\"Total Stops, Points of Interest, Businesses, population in each region: \")\n",
    "        print()\n",
    "        print(df.to_string(index=False))\n",
    "\n",
    "except Exception as e:\n",
    "    print(\"Error during PostgreSQL operation:\", e)"
   ]
  },
  {
   "cell_type": "code",
   "execution_count": 50,
   "id": "4609c5b5-838f-45fe-8520-bd9906aba49a",
   "metadata": {},
   "outputs": [
    {
     "name": "stdout",
     "output_type": "stream",
     "text": [
      "\n",
      "Reading Entries from PostgreSQL with read_sql_query...\n",
      "\n",
      "connected successfully.\n",
      "Sigmaoid Function and Well_resourced score for each region:\n",
      "\n",
      "                sa2_name  sigmoid_business  sigmoid_stops  sigmoid_poi  well_resourced_score\n",
      "Bondi Junction - Waverly             0.879          0.773        0.838                 0.992\n",
      "        Randwick - South             0.392          0.680        0.582                 0.656\n",
      "        Randwick - North             0.417          0.539        0.482                 0.438\n",
      "               Kingsford             0.335          0.377        0.201                 0.071\n",
      "               Woollahra             0.372          0.164        0.372                 0.064\n"
     ]
    }
   ],
   "source": [
    "try:\n",
    "    print(\"\\nReading Entries from PostgreSQL with read_sql_query...\\n\")\n",
    "    engine, conn = pgconnect(CREDENTIALS_FILE)\n",
    "    if engine is None:\n",
    "        print(\"Failed to connect to the database. Skipping PostgreSQL operations.\\n\")\n",
    "    else:\n",
    "        query = '''\n",
    "        WITH base_data AS (\n",
    "          WITH sa2_filtered AS (\n",
    "            SELECT sa2.*\n",
    "            FROM sa2_boundaries sa2\n",
    "            JOIN sa4_boundaries sa4 ON ST_Within(sa2.geometry, sa4.geometry)\n",
    "            WHERE sa4.sa4_name = 'Sydney - Eastern Suburbs'\n",
    "            ),\n",
    "          stops_count AS (\n",
    "            SELECT sa2_name, COUNT(*) AS stops\n",
    "            FROM stops s\n",
    "            JOIN sa2_boundaries sa2 ON ST_Within(s.geometry, sa2.geometry)\n",
    "            GROUP BY sa2_name\n",
    "          ),\n",
    "          poi_count AS (\n",
    "            SELECT sa2_name, COUNT(*) AS poi\n",
    "            FROM points_of_interest\n",
    "            GROUP BY sa2_name\n",
    "          ),\n",
    "          business_sum AS (\n",
    "            SELECT sa2_name, SUM(total_businesses) AS business\n",
    "            FROM businesses\n",
    "            GROUP BY sa2_name\n",
    "          ),\n",
    "          population_data AS (\n",
    "            SELECT sa2_name, MAX(total_population) AS population\n",
    "            FROM population\n",
    "            GROUP BY sa2_name\n",
    "          )\n",
    "          SELECT \n",
    "            sa2.sa2_name,\n",
    "            COALESCE(sc.stops, 0) AS stops,\n",
    "            COALESCE(p.population, 0) AS population,\n",
    "            COALESCE(b.business, 0) AS business,\n",
    "            COALESCE(pc.poi, 0) AS poi\n",
    "          FROM sa2_filtered sa2\n",
    "          LEFT JOIN stops_count sc ON sa2.sa2_name = sc.sa2_name\n",
    "          LEFT JOIN poi_count pc ON sa2.sa2_name = pc.sa2_name\n",
    "          LEFT JOIN business_sum b ON sa2.sa2_name = b.sa2_name\n",
    "          LEFT JOIN population_data p ON sa2.sa2_name = p.sa2_name\n",
    "          WHERE population >= 100\n",
    "        ),\n",
    "        z_scores AS (\n",
    "          SELECT *,\n",
    "            (business - AVG(business) OVER()) / NULLIF(STDDEV_POP(business) OVER(), 0) AS z_business,\n",
    "            (stops - AVG(stops) OVER()) / NULLIF(STDDEV_POP(stops) OVER(), 0) AS z_stops,\n",
    "            (poi - AVG(poi) OVER()) / NULLIF(STDDEV_POP(poi) OVER(), 0) AS z_poi\n",
    "          FROM base_data\n",
    "          WHERE population >= 100 -- Optional: exclude underpopulated regions\n",
    "        ),\n",
    "        sigmoid_scores AS (\n",
    "          -- Step 3: Apply sigmoid function: 1 / (1 + exp(-z))\n",
    "          SELECT *,\n",
    "            1 / (1 + EXP(-z_business)) AS s_business,\n",
    "            1 / (1 + EXP(-z_stops)) AS s_stops,\n",
    "            1 / (1 + EXP(-z_poi)) AS s_poi,\n",
    "            1 / (1 + EXP(-(z_business + z_stops + z_poi))) AS final_score\n",
    "          FROM z_scores\n",
    "        )\n",
    "        \n",
    "        SELECT \n",
    "          sa2_name,\n",
    "          ROUND(s_business, 3) AS sigmoid_business,\n",
    "          ROUND(s_stops, 3) AS sigmoid_stops,\n",
    "          ROUND(s_poi, 3) AS sigmoid_poi,\n",
    "          ROUND(final_score, 3) AS well_resourced_score\n",
    "        FROM sigmoid_scores\n",
    "        ORDER BY final_score DESC;\n",
    "        '''\n",
    "\n",
    "        # Run query and load result into a DataFrame\n",
    "        df = pd.read_sql_query(query, con=engine)\n",
    "\n",
    "        # Optionally show result as text-based table\n",
    "        print(\"Sigmaoid Function and Well_resourced score for each region:\")\n",
    "        print()\n",
    "        print(df.to_string(index=False))\n",
    "\n",
    "except Exception as e:\n",
    "    print(\"Error during PostgreSQL operation:\", e)"
   ]
  },
  {
   "cell_type": "raw",
   "id": "7e22d0ab-426e-480d-93de-f42097b3173f",
   "metadata": {},
   "source": [
    "### For Baulkham Hills and Hawkesbury"
   ]
  },
  {
   "cell_type": "code",
   "execution_count": 53,
   "id": "56b968e0-dfb9-49b3-a3cd-2b23cdd997fa",
   "metadata": {},
   "outputs": [
    {
     "name": "stdout",
     "output_type": "stream",
     "text": [
      "\n",
      "Reading Entries from PostgreSQL with read_sql_query...\n",
      "\n",
      "connected successfully.\n",
      "SA2 Regions in Baulkham Hills and Hawkesbury: \n",
      "\n",
      "                sa2_name  sa2_code                                   coordinates\n",
      "Bondi Junction - Waverly 118011341  POINT(151.2507948230986 -33.897169250323245)\n",
      "         Centennial Park 118011342  POINT(151.23426118299068 -33.89834855710218)\n",
      "               Woollahra 118011347 POINT(151.24367539116128 -33.886781622742994)\n",
      "               Kingsford 118021565     POINT(151.228966941633 -33.9251427768126)\n",
      "        Randwick - North 118021569   POINT(151.24414969718558 -33.9080643519631)\n",
      "        Randwick - South 118021570 POINT(151.23934352439906 -33.919740288085976)\n"
     ]
    }
   ],
   "source": [
    "try:\n",
    "    print(\"\\nReading Entries from PostgreSQL with read_sql_query...\\n\")\n",
    "    engine, conn = pgconnect(CREDENTIALS_FILE)\n",
    "    if engine is None:\n",
    "        print(\"Failed to connect to the database. Skipping PostgreSQL operations.\\n\")\n",
    "    else:\n",
    "        query = '''\n",
    "        SELECT sa2.sa2_name, sa2.sa2_code, ST_AsText(ST_Centroid(sa2.geometry)) AS Coordinates\n",
    "        FROM sa2_boundaries sa2\n",
    "        JOIN sa4_boundaries sa4\n",
    "          ON ST_Within(sa2.geometry, sa4.geometry)\n",
    "        WHERE sa4.sa4_name = 'Sydney - Eastern Suburbs';\n",
    "        '''\n",
    "\n",
    "        # Run query and load result into a DataFrame\n",
    "        df = pd.read_sql_query(query, con=engine)\n",
    "\n",
    "        # Optionally show result as text-based table\n",
    "        print(\"SA2 Regions in Baulkham Hills and Hawkesbury: \")\n",
    "        print()\n",
    "        print(df.to_string(index=False))\n",
    "\n",
    "except Exception as e:\n",
    "    print(\"Error during PostgreSQL operation:\", e)"
   ]
  },
  {
   "cell_type": "code",
   "execution_count": 55,
   "id": "34a32296-5527-4996-b1e3-ee4840ead244",
   "metadata": {},
   "outputs": [
    {
     "name": "stdout",
     "output_type": "stream",
     "text": [
      "\n",
      "Reading Entries from PostgreSQL with read_sql_query...\n",
      "\n",
      "connected successfully.\n",
      "Total Stops, Points of Interest, Businesses, population in each region: \n",
      "\n",
      "                           sa2_name  stops  population  business  poi\n",
      "                          Glenhaven    148        6368     675.0   29\n",
      "                  Kellyville - West    121       11417    1012.0   32\n",
      "        Rouse Hill - Beaumont Hills    227       17609    1648.0   70\n",
      "                  Box Hill - Nelson    249       10330     855.0   34\n",
      "                  Kellyville - East    139       17748    1580.0   53\n",
      "Baulkham Hills (West) - Bella Vista    318       21792    5808.0   84\n",
      "                 Castle Hill - West     42        5198     538.0    9\n",
      "                Castle Hill - North    164       12214    1298.0   74\n",
      "                   North Kellyville     97       17486    1332.0   26\n",
      "              Castle Hill - Central    104        7685    1843.0   19\n",
      "                Castle Hill - South     78       10436    1173.0   38\n",
      "                 Castle Hill - East     96        5673     437.0   27\n"
     ]
    }
   ],
   "source": [
    "try:\n",
    "    print(\"\\nReading Entries from PostgreSQL with read_sql_query...\\n\")\n",
    "    engine, conn = pgconnect(CREDENTIALS_FILE)\n",
    "    if engine is None:\n",
    "        print(\"Failed to connect to the database. Skipping PostgreSQL operations.\\n\")\n",
    "    else:\n",
    "        query = '''\n",
    "        WITH sa2_filtered AS (\n",
    "          SELECT sa2.*\n",
    "          FROM sa2_boundaries sa2\n",
    "          JOIN sa4_boundaries sa4\n",
    "            ON ST_Within(sa2.geometry, sa4.geometry)\n",
    "          WHERE sa4.sa4_name = 'Sydney - Baulkham Hills and Hawkesbury'\n",
    "        ),\n",
    "        stops_count AS (\n",
    "          SELECT sa2_name, COUNT(*) AS stop_count\n",
    "          FROM stops s\n",
    "          JOIN sa2_boundaries sa2 ON ST_Within(s.geometry, sa2.geometry)\n",
    "          GROUP BY sa2_name\n",
    "        ),\n",
    "        poi_count AS (\n",
    "          SELECT sa2_name, COUNT(*) AS poi_count\n",
    "          FROM points_of_interest\n",
    "          GROUP BY sa2_name\n",
    "        ),\n",
    "        business_sum AS (\n",
    "          SELECT sa2_name, SUM(total_businesses) AS business_total\n",
    "          FROM businesses\n",
    "          GROUP BY sa2_name\n",
    "        ),\n",
    "        population_data AS (\n",
    "          SELECT sa2_name, MAX(total_population) AS population\n",
    "          FROM population\n",
    "          GROUP BY sa2_name\n",
    "\n",
    "        )\n",
    "        \n",
    "        SELECT \n",
    "          sa2.sa2_name,\n",
    "          COALESCE(sc.stop_count, 0) AS stops,\n",
    "          COALESCE(p.population, 0) AS population,\n",
    "          COALESCE(b.business_total, 0) AS business,\n",
    "          COALESCE(pc.poi_count, 0) AS poi\n",
    "        FROM sa2_filtered sa2\n",
    "        LEFT JOIN stops_count sc ON sa2.sa2_name = sc.sa2_name\n",
    "        LEFT JOIN poi_count pc ON sa2.sa2_name = pc.sa2_name\n",
    "        LEFT JOIN business_sum b ON sa2.sa2_name = b.sa2_name\n",
    "        LEFT JOIN population_data p ON sa2.sa2_name = p.sa2_name\n",
    "        WHERE population >= 100;\n",
    "        '''\n",
    "\n",
    "        # Run query and load result into a DataFrame\n",
    "        df = pd.read_sql_query(query, con=engine)\n",
    "\n",
    "        # Optionally show result as text-based table\n",
    "        print(\"Total Stops, Points of Interest, Businesses, population in each region: \")\n",
    "        print()\n",
    "        print(df.to_string(index=False))\n",
    "\n",
    "except Exception as e:\n",
    "    print(\"Error during PostgreSQL operation:\", e)"
   ]
  },
  {
   "cell_type": "code",
   "execution_count": 57,
   "id": "feecd018-515b-4b35-a30d-b08974aa5562",
   "metadata": {},
   "outputs": [
    {
     "name": "stdout",
     "output_type": "stream",
     "text": [
      "\n",
      "Reading Entries from PostgreSQL with read_sql_query...\n",
      "\n",
      "connected successfully.\n",
      "Sigmaoid Function and Well_resourced score for each region:\n",
      "\n",
      "                           sa2_name  sigmoid_business  sigmoid_stops  sigmoid_poi  well_resourced_score\n",
      "Baulkham Hills (West) - Bella Vista             0.959          0.902        0.869                 0.999\n",
      "        Rouse Hill - Beaumont Hills             0.524          0.737        0.781                 0.917\n",
      "                Castle Hill - North             0.460          0.550        0.810                 0.816\n",
      "                  Box Hill - Nelson             0.381          0.789        0.421                 0.625\n",
      "                  Kellyville - East             0.512          0.469        0.627                 0.608\n",
      "                  Kellyville - West             0.408          0.411        0.399                 0.242\n",
      "                          Glenhaven             0.350          0.498        0.368                 0.237\n",
      "                Castle Hill - South             0.437          0.284        0.464                 0.211\n",
      "              Castle Hill - Central             0.560          0.358        0.272                 0.209\n",
      "                   North Kellyville             0.466          0.337        0.337                 0.184\n",
      "                 Castle Hill - East             0.312          0.334        0.347                 0.108\n",
      "                 Castle Hill - West             0.328          0.198        0.194                 0.028\n"
     ]
    }
   ],
   "source": [
    "try:\n",
    "    print(\"\\nReading Entries from PostgreSQL with read_sql_query...\\n\")\n",
    "    engine, conn = pgconnect(CREDENTIALS_FILE)\n",
    "    if engine is None:\n",
    "        print(\"Failed to connect to the database. Skipping PostgreSQL operations.\\n\")\n",
    "    else:\n",
    "        query = '''\n",
    "        WITH base_data AS (\n",
    "          WITH sa2_filtered AS (\n",
    "            SELECT sa2.*\n",
    "            FROM sa2_boundaries sa2\n",
    "            JOIN sa4_boundaries sa4 ON ST_Within(sa2.geometry, sa4.geometry)\n",
    "            WHERE sa4.sa4_name = 'Sydney - Baulkham Hills and Hawkesbury'\n",
    "            ),\n",
    "          stops_count AS (\n",
    "            SELECT sa2_name, COUNT(*) AS stops\n",
    "            FROM stops s\n",
    "            JOIN sa2_boundaries sa2 ON ST_Within(s.geometry, sa2.geometry)\n",
    "            GROUP BY sa2_name\n",
    "          ),\n",
    "          poi_count AS (\n",
    "            SELECT sa2_name, COUNT(*) AS poi\n",
    "            FROM points_of_interest\n",
    "            GROUP BY sa2_name\n",
    "          ),\n",
    "          business_sum AS (\n",
    "            SELECT sa2_name, SUM(total_businesses) AS business\n",
    "            FROM businesses\n",
    "            GROUP BY sa2_name\n",
    "          ),\n",
    "          population_data AS (\n",
    "            SELECT sa2_name, MAX(total_population) AS population\n",
    "            FROM population\n",
    "            GROUP BY sa2_name\n",
    "          )\n",
    "          SELECT \n",
    "            sa2.sa2_name,\n",
    "            COALESCE(sc.stops, 0) AS stops,\n",
    "            COALESCE(p.population, 0) AS population,\n",
    "            COALESCE(b.business, 0) AS business,\n",
    "            COALESCE(pc.poi, 0) AS poi\n",
    "          FROM sa2_filtered sa2\n",
    "          LEFT JOIN stops_count sc ON sa2.sa2_name = sc.sa2_name\n",
    "          LEFT JOIN poi_count pc ON sa2.sa2_name = pc.sa2_name\n",
    "          LEFT JOIN business_sum b ON sa2.sa2_name = b.sa2_name\n",
    "          LEFT JOIN population_data p ON sa2.sa2_name = p.sa2_name\n",
    "          WHERE population >= 100\n",
    "        ),\n",
    "        z_scores AS (\n",
    "          SELECT *,\n",
    "            (business - AVG(business) OVER()) / NULLIF(STDDEV_POP(business) OVER(), 0) AS z_business,\n",
    "            (stops - AVG(stops) OVER()) / NULLIF(STDDEV_POP(stops) OVER(), 0) AS z_stops,\n",
    "            (poi - AVG(poi) OVER()) / NULLIF(STDDEV_POP(poi) OVER(), 0) AS z_poi\n",
    "          FROM base_data\n",
    "          WHERE population >= 100 -- Optional: exclude underpopulated regions\n",
    "        ),\n",
    "        sigmoid_scores AS (\n",
    "          -- Step 3: Apply sigmoid function: 1 / (1 + exp(-z))\n",
    "          SELECT *,\n",
    "            1 / (1 + EXP(-z_business)) AS s_business,\n",
    "            1 / (1 + EXP(-z_stops)) AS s_stops,\n",
    "            1 / (1 + EXP(-z_poi)) AS s_poi,\n",
    "            1 / (1 + EXP(-(z_business + z_stops + z_poi))) AS final_score\n",
    "          FROM z_scores\n",
    "        )\n",
    "        \n",
    "        SELECT \n",
    "          sa2_name,\n",
    "          ROUND(s_business, 3) AS sigmoid_business,\n",
    "          ROUND(s_stops, 3) AS sigmoid_stops,\n",
    "          ROUND(s_poi, 3) AS sigmoid_poi,\n",
    "          ROUND(final_score, 3) AS well_resourced_score\n",
    "        FROM sigmoid_scores\n",
    "        ORDER BY final_score DESC;\n",
    "        '''\n",
    "\n",
    "        # Run query and load result into a DataFrame\n",
    "        df = pd.read_sql_query(query, con=engine)\n",
    "\n",
    "        # Optionally show result as text-based table\n",
    "        print(\"Sigmaoid Function and Well_resourced score for each region:\")\n",
    "        print()\n",
    "        print(df.to_string(index=False))\n",
    "\n",
    "except Exception as e:\n",
    "    print(\"Error during PostgreSQL operation:\", e)"
   ]
  },
  {
   "cell_type": "code",
   "execution_count": 61,
   "id": "95e89493-1d09-4d78-9d74-e9fb4067f3d8",
   "metadata": {},
   "outputs": [
    {
     "name": "stdout",
     "output_type": "stream",
     "text": [
      "Summary Statistics of Final Score:\n",
      "count    12.000000\n",
      "mean      0.432000\n",
      "std       0.340426\n",
      "min       0.028000\n",
      "25%       0.202750\n",
      "50%       0.239500\n",
      "75%       0.672750\n",
      "max       0.999000\n",
      "Name: Final_Score, dtype: float64\n"
     ]
    },
    {
     "data": {
      "image/png": "[encoded data removed]",
      "text/plain": [
       "<Figure size 800x500 with 1 Axes>"
      ]
     },
     "metadata": {},
     "output_type": "display_data"
    }
   ],
   "source": [
    "import pandas as pd\n",
    "import matplotlib.pyplot as plt\n",
    "import seaborn as sns\n",
    "\n",
    "# Assuming 'df' is already defined and loaded with the relevant data\n",
    "# Ensure column names are consistent\n",
    "# Rename 'well_resourced_score' to 'Final_Score' if needed\n",
    "df = df.rename(columns={'well_resourced_score': 'Final_Score'})\n",
    "\n",
    "# Display key statistics\n",
    "print(\"Summary Statistics of Final Score:\")\n",
    "print(df['Final_Score'].describe())\n",
    "\n",
    "# Visualisation 1: Histogram of final scores\n",
    "plt.figure(figsize=(8, 5))\n",
    "sns.histplot(df['Final_Score'], kde=True, color='skyblue', edgecolor='black')\n",
    "plt.title('Distribution of Final Scores Across Regions')\n",
    "plt.xlabel('Final Score')\n",
    "plt.ylabel('Frequency')\n",
    "plt.tight_layout()\n",
    "plt.show()"
   ]
  },
  {
   "cell_type": "markdown",
   "id": "10131293-d860-4cac-ab3f-e9d56f34102c",
   "metadata": {},
   "source": [
    "### Interactive Scatterplot for Businesses and Population for regions"
   ]
  },
  {
   "cell_type": "code",
   "execution_count": 49,
   "id": "71071800-735e-4f48-a400-c6ce673bf465",
   "metadata": {},
   "outputs": [
    {
     "ename": "SyntaxError",
     "evalue": "keyword argument repeated: y (4220057739.py, line 50)",
     "output_type": "error",
     "traceback": [
      "\u001b[0;36m  Cell \u001b[0;32mIn[49], line 50\u001b[0;36m\u001b[0m\n\u001b[0;31m    y='total_businesses',\u001b[0m\n\u001b[0m    ^\u001b[0m\n\u001b[0;31mSyntaxError\u001b[0m\u001b[0;31m:\u001b[0m keyword argument repeated: y\n"
     ]
    }
   ],
   "source": [
    "import pandas as pd\n",
    "import plotly.express as px\n",
    "from sqlalchemy import text\n",
    "\n",
    "try:\n",
    "    engine, conn = pgconnect(CREDENTIALS_FILE)\n",
    "    if engine is not None:\n",
    "        query = text(\"\"\"\n",
    "        WITH region_data AS (\n",
    "            SELECT \n",
    "                sa4.sa4_name,\n",
    "                sa2.sa2_name,\n",
    "                p.total_population,\n",
    "                b.total_businesses\n",
    "            FROM sa4_boundaries sa4\n",
    "            JOIN sa2_boundaries sa2 ON ST_Within(sa2.geometry, sa4.geometry)\n",
    "            LEFT JOIN population p ON sa2.sa2_name = p.sa2_name\n",
    "            LEFT JOIN businesses b ON sa2.sa2_name = b.sa2_name\n",
    "            WHERE sa4.sa4_name IN (\n",
    "                'Sydney - Baulkham Hills and Hawkesbury',\n",
    "                'Sydney - Eastern Suburbs',\n",
    "                'Sydney - Inner West'\n",
    "            )\n",
    "            GROUP BY sa4.sa4_name, sa2.sa2_name, p.total_population, b.total_businesses\n",
    "        )\n",
    "        SELECT * FROM region_data;\n",
    "        \"\"\")\n",
    "        \n",
    "        df = pd.read_sql(query, engine)\n",
    "        \n",
    "        # Create interactive scatterplot with suburb name shown on hover\n",
    "        fig = px.scatter(\n",
    "            df, \n",
    "            x='total_population', \n",
    "            y='total_businesses',\n",
    "            color='sa4_name',\n",
    "            hover_name='sa2_name',  # Suburb name on hover\n",
    "            title='Interactive Population vs Businesses by Region',\n",
    "            labels={\n",
    "                'total_population': 'Total Population',\n",
    "                'total_businesses': 'Total Businesses',\n",
    "                'sa4_name': 'Region'\n",
    "            }\n",
    "        )\n",
    "        \n",
    "        # Add trend line\n",
    "        fig.add_traces(px.scatter(\n",
    "            df, \n",
    "            x='total_population', \n",
    "            y='total_businesses',\n",
    "            trendline=\"ols\"\n",
    "        ).data[1])  # Only add the trendline, not the duplicate scatter\n",
    "        \n",
    "        # Update layout\n",
    "        fig.update_layout(\n",
    "            title_x=0.5,\n",
    "            title_font_size=20,\n",
    "            showlegend=True,\n",
    "            legend_title_text='Region',\n",
    "            hovermode='closest'\n",
    "        )\n",
    "        \n",
    "        # Show the plot\n",
    "        fig.show()\n",
    "        \n",
    "        # Print statistics\n",
    "        print(\"\\nRegion Statistics:\")\n",
    "        stats = df.groupby('sa4_name').agg({\n",
    "            'total_population': ['mean', 'std'],\n",
    "            'total_businesses': ['mean', 'std']\n",
    "        }).round(2)\n",
    "        print(stats)\n",
    "        \n",
    "    else:\n",
    "        print(\"Failed to connect to the database.\")\n",
    "except Exception as e:\n",
    "    print(f\"Error: {e}\")"
   ]
  },
  {
   "cell_type": "markdown",
   "id": "8e8db565-ee5f-45b7-8f94-9a9be6fcaaf0",
   "metadata": {},
   "source": [
    "### Interactive Bar-Graph for stops accross regions"
   ]
  },
  {
   "cell_type": "code",
   "execution_count": 38,
   "id": "38807b6b-5de2-4f81-b928-914d999fe43c",
   "metadata": {},
   "outputs": [
    {
     "name": "stdout",
     "output_type": "stream",
     "text": [
      "connected successfully.\n"
     ]
    },
    {
     "data": {
      "application/vnd.plotly.v1+json": {
       "config": {
        "plotlyServerURL": "https://plot.ly"
       },
       "data": [
        {
         "alignmentgroup": "True",
         "hovertemplate": "Region: %{x}<br>Number of Stops: %{y:,.0f}<br><extra></extra>",
         "legendgroup": "Sydney - Eastern Suburbs",
         "marker": {
          "color": "#636efa",
          "pattern": {
           "shape": ""
          }
         },
         "name": "Sydney - Eastern Suburbs",
         "offsetgroup": "Sydney - Eastern Suburbs",
         "orientation": "v",
         "showlegend": true,
         "textposition": "auto",
         "type": "bar",
         "x": [
          "Sydney - Eastern Suburbs"
         ],
         "xaxis": "x",
         "y": [
          544
         ],
         "yaxis": "y"
        },
        {
         "alignmentgroup": "True",
         "hovertemplate": "Region: %{x}<br>Number of Stops: %{y:,.0f}<br><extra></extra>",
         "legendgroup": "Sydney - Baulkham Hills and Hawkesbury",
         "marker": {
          "color": "#EF553B",
          "pattern": {
           "shape": ""
          }
         },
         "name": "Sydney - Baulkham Hills and Hawkesbury",
         "offsetgroup": "Sydney - Baulkham Hills and Hawkesbury",
         "orientation": "v",
         "showlegend": true,
         "textposition": "auto",
         "type": "bar",
         "x": [
          "Sydney - Baulkham Hills and Hawkesbury"
         ],
         "xaxis": "x",
         "y": [
          1783
         ],
         "yaxis": "y"
        },
        {
         "alignmentgroup": "True",
         "hovertemplate": "Region: %{x}<br>Number of Stops: %{y:,.0f}<br><extra></extra>",
         "legendgroup": "Sydney - Inner West",
         "marker": {
          "color": "#00cc96",
          "pattern": {
           "shape": ""
          }
         },
         "name": "Sydney - Inner West",
         "offsetgroup": "Sydney - Inner West",
         "orientation": "v",
         "showlegend": true,
         "textposition": "auto",
         "type": "bar",
         "x": [
          "Sydney - Inner West"
         ],
         "xaxis": "x",
         "y": [
          668
         ],
         "yaxis": "y"
        }
       ],
       "layout": {
        "autosize": true,
        "barmode": "relative",
        "hovermode": "x",
        "legend": {
         "title": {
          "text": "Region"
         },
         "tracegroupgap": 0
        },
        "showlegend": false,
        "template": {
         "data": {
          "bar": [
           {
            "error_x": {
             "color": "#2a3f5f"
            },
            "error_y": {
             "color": "#2a3f5f"
            },
            "marker": {
             "line": {
              "color": "#E5ECF6",
              "width": 0.5
             },
             "pattern": {
              "fillmode": "overlay",
              "size": 10,
              "solidity": 0.2
             }
            },
            "type": "bar"
           }
          ],
          "barpolar": [
           {
            "marker": {
             "line": {
              "color": "#E5ECF6",
              "width": 0.5
             },
             "pattern": {
              "fillmode": "overlay",
              "size": 10,
              "solidity": 0.2
             }
            },
            "type": "barpolar"
           }
          ],
          "carpet": [
           {
            "aaxis": {
             "endlinecolor": "#2a3f5f",
             "gridcolor": "white",
             "linecolor": "white",
             "minorgridcolor": "white",
             "startlinecolor": "#2a3f5f"
            },
            "baxis": {
             "endlinecolor": "#2a3f5f",
             "gridcolor": "white",
             "linecolor": "white",
             "minorgridcolor": "white",
             "startlinecolor": "#2a3f5f"
            },
            "type": "carpet"
           }
          ],
          "choropleth": [
           {
            "colorbar": {
             "outlinewidth": 0,
             "ticks": ""
            },
            "type": "choropleth"
           }
          ],
          "contour": [
           {
            "colorbar": {
             "outlinewidth": 0,
             "ticks": ""
            },
            "colorscale": [
             [
              0,
              "#0d0887"
             ],
             [
              0.1111111111111111,
              "#46039f"
             ],
             [
              0.2222222222222222,
              "#7201a8"
             ],
             [
              0.3333333333333333,
              "#9c179e"
             ],
             [
              0.4444444444444444,
              "#bd3786"
             ],
             [
              0.5555555555555556,
              "#d8576b"
             ],
             [
              0.6666666666666666,
              "#ed7953"
             ],
             [
              0.7777777777777778,
              "#fb9f3a"
             ],
             [
              0.8888888888888888,
              "#fdca26"
             ],
             [
              1,
              "#f0f921"
             ]
            ],
            "type": "contour"
           }
          ],
          "contourcarpet": [
           {
            "colorbar": {
             "outlinewidth": 0,
             "ticks": ""
            },
            "type": "contourcarpet"
           }
          ],
          "heatmap": [
           {
            "colorbar": {
             "outlinewidth": 0,
             "ticks": ""
            },
            "colorscale": [
             [
              0,
              "#0d0887"
             ],
             [
              0.1111111111111111,
              "#46039f"
             ],
             [
              0.2222222222222222,
              "#7201a8"
             ],
             [
              0.3333333333333333,
              "#9c179e"
             ],
             [
              0.4444444444444444,
              "#bd3786"
             ],
             [
              0.5555555555555556,
              "#d8576b"
             ],
             [
              0.6666666666666666,
              "#ed7953"
             ],
             [
              0.7777777777777778,
              "#fb9f3a"
             ],
             [
              0.8888888888888888,
              "#fdca26"
             ],
             [
              1,
              "#f0f921"
             ]
            ],
            "type": "heatmap"
           }
          ],
          "heatmapgl": [
           {
            "colorbar": {
             "outlinewidth": 0,
             "ticks": ""
            },
            "colorscale": [
             [
              0,
              "#0d0887"
             ],
             [
              0.1111111111111111,
              "#46039f"
             ],
             [
              0.2222222222222222,
              "#7201a8"
             ],
             [
              0.3333333333333333,
              "#9c179e"
             ],
             [
              0.4444444444444444,
              "#bd3786"
             ],
             [
              0.5555555555555556,
              "#d8576b"
             ],
             [
              0.6666666666666666,
              "#ed7953"
             ],
             [
              0.7777777777777778,
              "#fb9f3a"
             ],
             [
              0.8888888888888888,
              "#fdca26"
             ],
             [
              1,
              "#f0f921"
             ]
            ],
            "type": "heatmapgl"
           }
          ],
          "histogram": [
           {
            "marker": {
             "pattern": {
              "fillmode": "overlay",
              "size": 10,
              "solidity": 0.2
             }
            },
            "type": "histogram"
           }
          ],
          "histogram2d": [
           {
            "colorbar": {
             "outlinewidth": 0,
             "ticks": ""
            },
            "colorscale": [
             [
              0,
              "#0d0887"
             ],
             [
              0.1111111111111111,
              "#46039f"
             ],
             [
              0.2222222222222222,
              "#7201a8"
             ],
             [
              0.3333333333333333,
              "#9c179e"
             ],
             [
              0.4444444444444444,
              "#bd3786"
             ],
             [
              0.5555555555555556,
              "#d8576b"
             ],
             [
              0.6666666666666666,
              "#ed7953"
             ],
             [
              0.7777777777777778,
              "#fb9f3a"
             ],
             [
              0.8888888888888888,
              "#fdca26"
             ],
             [
              1,
              "#f0f921"
             ]
            ],
            "type": "histogram2d"
           }
          ],
          "histogram2dcontour": [
           {
            "colorbar": {
             "outlinewidth": 0,
             "ticks": ""
            },
            "colorscale": [
             [
              0,
              "#0d0887"
             ],
             [
              0.1111111111111111,
              "#46039f"
             ],
             [
              0.2222222222222222,
              "#7201a8"
             ],
             [
              0.3333333333333333,
              "#9c179e"
             ],
             [
              0.4444444444444444,
              "#bd3786"
             ],
             [
              0.5555555555555556,
              "#d8576b"
             ],
             [
              0.6666666666666666,
              "#ed7953"
             ],
             [
              0.7777777777777778,
              "#fb9f3a"
             ],
             [
              0.8888888888888888,
              "#fdca26"
             ],
             [
              1,
              "#f0f921"
             ]
            ],
            "type": "histogram2dcontour"
           }
          ],
          "mesh3d": [
           {
            "colorbar": {
             "outlinewidth": 0,
             "ticks": ""
            },
            "type": "mesh3d"
           }
          ],
          "parcoords": [
           {
            "line": {
             "colorbar": {
              "outlinewidth": 0,
              "ticks": ""
             }
            },
            "type": "parcoords"
           }
          ],
          "pie": [
           {
            "automargin": true,
            "type": "pie"
           }
          ],
          "scatter": [
           {
            "fillpattern": {
             "fillmode": "overlay",
             "size": 10,
             "solidity": 0.2
            },
            "type": "scatter"
           }
          ],
          "scatter3d": [
           {
            "line": {
             "colorbar": {
              "outlinewidth": 0,
              "ticks": ""
             }
            },
            "marker": {
             "colorbar": {
              "outlinewidth": 0,
              "ticks": ""
             }
            },
            "type": "scatter3d"
           }
          ],
          "scattercarpet": [
           {
            "marker": {
             "colorbar": {
              "outlinewidth": 0,
              "ticks": ""
             }
            },
            "type": "scattercarpet"
           }
          ],
          "scattergeo": [
           {
            "marker": {
             "colorbar": {
              "outlinewidth": 0,
              "ticks": ""
             }
            },
            "type": "scattergeo"
           }
          ],
          "scattergl": [
           {
            "marker": {
             "colorbar": {
              "outlinewidth": 0,
              "ticks": ""
             }
            },
            "type": "scattergl"
           }
          ],
          "scattermapbox": [
           {
            "marker": {
             "colorbar": {
              "outlinewidth": 0,
              "ticks": ""
             }
            },
            "type": "scattermapbox"
           }
          ],
          "scatterpolar": [
           {
            "marker": {
             "colorbar": {
              "outlinewidth": 0,
              "ticks": ""
             }
            },
            "type": "scatterpolar"
           }
          ],
          "scatterpolargl": [
           {
            "marker": {
             "colorbar": {
              "outlinewidth": 0,
              "ticks": ""
             }
            },
            "type": "scatterpolargl"
           }
          ],
          "scatterternary": [
           {
            "marker": {
             "colorbar": {
              "outlinewidth": 0,
              "ticks": ""
             }
            },
            "type": "scatterternary"
           }
          ],
          "surface": [
           {
            "colorbar": {
             "outlinewidth": 0,
             "ticks": ""
            },
            "colorscale": [
             [
              0,
              "#0d0887"
             ],
             [
              0.1111111111111111,
              "#46039f"
             ],
             [
              0.2222222222222222,
              "#7201a8"
             ],
             [
              0.3333333333333333,
              "#9c179e"
             ],
             [
              0.4444444444444444,
              "#bd3786"
             ],
             [
              0.5555555555555556,
              "#d8576b"
             ],
             [
              0.6666666666666666,
              "#ed7953"
             ],
             [
              0.7777777777777778,
              "#fb9f3a"
             ],
             [
              0.8888888888888888,
              "#fdca26"
             ],
             [
              1,
              "#f0f921"
             ]
            ],
            "type": "surface"
           }
          ],
          "table": [
           {
            "cells": {
             "fill": {
              "color": "#EBF0F8"
             },
             "line": {
              "color": "white"
             }
            },
            "header": {
             "fill": {
              "color": "#C8D4E3"
             },
             "line": {
              "color": "white"
             }
            },
            "type": "table"
           }
          ]
         },
         "layout": {
          "annotationdefaults": {
           "arrowcolor": "#2a3f5f",
           "arrowhead": 0,
           "arrowwidth": 1
          },
          "autotypenumbers": "strict",
          "coloraxis": {
           "colorbar": {
            "outlinewidth": 0,
            "ticks": ""
           }
          },
          "colorscale": {
           "diverging": [
            [
             0,
             "#8e0152"
            ],
            [
             0.1,
             "#c51b7d"
            ],
            [
             0.2,
             "#de77ae"
            ],
            [
             0.3,
             "#f1b6da"
            ],
            [
             0.4,
             "#fde0ef"
            ],
            [
             0.5,
             "#f7f7f7"
            ],
            [
             0.6,
             "#e6f5d0"
            ],
            [
             0.7,
             "#b8e186"
            ],
            [
             0.8,
             "#7fbc41"
            ],
            [
             0.9,
             "#4d9221"
            ],
            [
             1,
             "#276419"
            ]
           ],
           "sequential": [
            [
             0,
             "#0d0887"
            ],
            [
             0.1111111111111111,
             "#46039f"
            ],
            [
             0.2222222222222222,
             "#7201a8"
            ],
            [
             0.3333333333333333,
             "#9c179e"
            ],
            [
             0.4444444444444444,
             "#bd3786"
            ],
            [
             0.5555555555555556,
             "#d8576b"
            ],
            [
             0.6666666666666666,
             "#ed7953"
            ],
            [
             0.7777777777777778,
             "#fb9f3a"
            ],
            [
             0.8888888888888888,
             "#fdca26"
            ],
            [
             1,
             "#f0f921"
            ]
           ],
           "sequentialminus": [
            [
             0,
             "#0d0887"
            ],
            [
             0.1111111111111111,
             "#46039f"
            ],
            [
             0.2222222222222222,
             "#7201a8"
            ],
            [
             0.3333333333333333,
             "#9c179e"
            ],
            [
             0.4444444444444444,
             "#bd3786"
            ],
            [
             0.5555555555555556,
             "#d8576b"
            ],
            [
             0.6666666666666666,
             "#ed7953"
            ],
            [
             0.7777777777777778,
             "#fb9f3a"
            ],
            [
             0.8888888888888888,
             "#fdca26"
            ],
            [
             1,
             "#f0f921"
            ]
           ]
          },
          "colorway": [
           "#636efa",
           "#EF553B",
           "#00cc96",
           "#ab63fa",
           "#FFA15A",
           "#19d3f3",
           "#FF6692",
           "#B6E880",
           "#FF97FF",
           "#FECB52"
          ],
          "font": {
           "color": "#2a3f5f"
          },
          "geo": {
           "bgcolor": "white",
           "lakecolor": "white",
           "landcolor": "#E5ECF6",
           "showlakes": true,
           "showland": true,
           "subunitcolor": "white"
          },
          "hoverlabel": {
           "align": "left"
          },
          "hovermode": "closest",
          "mapbox": {
           "style": "light"
          },
          "paper_bgcolor": "white",
          "plot_bgcolor": "#E5ECF6",
          "polar": {
           "angularaxis": {
            "gridcolor": "white",
            "linecolor": "white",
            "ticks": ""
           },
           "bgcolor": "#E5ECF6",
           "radialaxis": {
            "gridcolor": "white",
            "linecolor": "white",
            "ticks": ""
           }
          },
          "scene": {
           "xaxis": {
            "backgroundcolor": "#E5ECF6",
            "gridcolor": "white",
            "gridwidth": 2,
            "linecolor": "white",
            "showbackground": true,
            "ticks": "",
            "zerolinecolor": "white"
           },
           "yaxis": {
            "backgroundcolor": "#E5ECF6",
            "gridcolor": "white",
            "gridwidth": 2,
            "linecolor": "white",
            "showbackground": true,
            "ticks": "",
            "zerolinecolor": "white"
           },
           "zaxis": {
            "backgroundcolor": "#E5ECF6",
            "gridcolor": "white",
            "gridwidth": 2,
            "linecolor": "white",
            "showbackground": true,
            "ticks": "",
            "zerolinecolor": "white"
           }
          },
          "shapedefaults": {
           "line": {
            "color": "#2a3f5f"
           }
          },
          "ternary": {
           "aaxis": {
            "gridcolor": "white",
            "linecolor": "white",
            "ticks": ""
           },
           "baxis": {
            "gridcolor": "white",
            "linecolor": "white",
            "ticks": ""
           },
           "bgcolor": "#E5ECF6",
           "caxis": {
            "gridcolor": "white",
            "linecolor": "white",
            "ticks": ""
           }
          },
          "title": {
           "x": 0.05
          },
          "xaxis": {
           "automargin": true,
           "gridcolor": "white",
           "linecolor": "white",
           "ticks": "",
           "title": {
            "standoff": 15
           },
           "zerolinecolor": "white",
           "zerolinewidth": 2
          },
          "yaxis": {
           "automargin": true,
           "gridcolor": "white",
           "linecolor": "white",
           "ticks": "",
           "title": {
            "standoff": 15
           },
           "zerolinecolor": "white",
           "zerolinewidth": 2
          }
         }
        },
        "title": {
         "font": {
          "size": 20
         },
         "text": "Number of Stops by Region",
         "x": 0.5
        },
        "xaxis": {
         "anchor": "y",
         "autorange": true,
         "categoryarray": [
          "Sydney - Eastern Suburbs",
          "Sydney - Baulkham Hills and Hawkesbury",
          "Sydney - Inner West"
         ],
         "categoryorder": "array",
         "domain": [
          0,
          1
         ],
         "range": [
          -0.5,
          2.5
         ],
         "title": {
          "text": "Region"
         },
         "type": "category"
        },
        "yaxis": {
         "anchor": "x",
         "autorange": true,
         "domain": [
          0,
          1
         ],
         "range": [
          0,
          1876.842105263158
         ],
         "title": {
          "text": "Number of Stops"
         },
         "type": "linear"
        }
       }
      },
      "image/png": "[encoded data removed]",
      "text/html": [
       "<div>                            <div id=\"c6cb168d-3fb0-4f34-88e0-23bf23c36cbc\" class=\"plotly-graph-div\" style=\"height:525px; width:100%;\"></div>            <script type=\"text/javascript\">                require([\"plotly\"], function(Plotly) {                    window.PLOTLYENV=window.PLOTLYENV || {};                                    if (document.getElementById(\"c6cb168d-3fb0-4f34-88e0-23bf23c36cbc\")) {                    Plotly.newPlot(                        \"c6cb168d-3fb0-4f34-88e0-23bf23c36cbc\",                        [{\"alignmentgroup\":\"True\",\"hovertemplate\":\"Region: %{x}\\u003cbr\\u003eNumber of Stops: %{y:,.0f}\\u003cbr\\u003e\\u003cextra\\u003e\\u003c\\u002fextra\\u003e\",\"legendgroup\":\"Sydney - Eastern Suburbs\",\"marker\":{\"color\":\"#636efa\",\"pattern\":{\"shape\":\"\"}},\"name\":\"Sydney - Eastern Suburbs\",\"offsetgroup\":\"Sydney - Eastern Suburbs\",\"orientation\":\"v\",\"showlegend\":true,\"textposition\":\"auto\",\"x\":[\"Sydney - Eastern Suburbs\"],\"xaxis\":\"x\",\"y\":[544],\"yaxis\":\"y\",\"type\":\"bar\"},{\"alignmentgroup\":\"True\",\"hovertemplate\":\"Region: %{x}\\u003cbr\\u003eNumber of Stops: %{y:,.0f}\\u003cbr\\u003e\\u003cextra\\u003e\\u003c\\u002fextra\\u003e\",\"legendgroup\":\"Sydney - Baulkham Hills and Hawkesbury\",\"marker\":{\"color\":\"#EF553B\",\"pattern\":{\"shape\":\"\"}},\"name\":\"Sydney - Baulkham Hills and Hawkesbury\",\"offsetgroup\":\"Sydney - Baulkham Hills and Hawkesbury\",\"orientation\":\"v\",\"showlegend\":true,\"textposition\":\"auto\",\"x\":[\"Sydney - Baulkham Hills and Hawkesbury\"],\"xaxis\":\"x\",\"y\":[1783],\"yaxis\":\"y\",\"type\":\"bar\"},{\"alignmentgroup\":\"True\",\"hovertemplate\":\"Region: %{x}\\u003cbr\\u003eNumber of Stops: %{y:,.0f}\\u003cbr\\u003e\\u003cextra\\u003e\\u003c\\u002fextra\\u003e\",\"legendgroup\":\"Sydney - Inner West\",\"marker\":{\"color\":\"#00cc96\",\"pattern\":{\"shape\":\"\"}},\"name\":\"Sydney - Inner West\",\"offsetgroup\":\"Sydney - Inner West\",\"orientation\":\"v\",\"showlegend\":true,\"textposition\":\"auto\",\"x\":[\"Sydney - Inner West\"],\"xaxis\":\"x\",\"y\":[668],\"yaxis\":\"y\",\"type\":\"bar\"}],                        {\"template\":{\"data\":{\"histogram2dcontour\":[{\"type\":\"histogram2dcontour\",\"colorbar\":{\"outlinewidth\":0,\"ticks\":\"\"},\"colorscale\":[[0.0,\"#0d0887\"],[0.1111111111111111,\"#46039f\"],[0.2222222222222222,\"#7201a8\"],[0.3333333333333333,\"#9c179e\"],[0.4444444444444444,\"#bd3786\"],[0.5555555555555556,\"#d8576b\"],[0.6666666666666666,\"#ed7953\"],[0.7777777777777778,\"#fb9f3a\"],[0.8888888888888888,\"#fdca26\"],[1.0,\"#f0f921\"]]}],\"choropleth\":[{\"type\":\"choropleth\",\"colorbar\":{\"outlinewidth\":0,\"ticks\":\"\"}}],\"histogram2d\":[{\"type\":\"histogram2d\",\"colorbar\":{\"outlinewidth\":0,\"ticks\":\"\"},\"colorscale\":[[0.0,\"#0d0887\"],[0.1111111111111111,\"#46039f\"],[0.2222222222222222,\"#7201a8\"],[0.3333333333333333,\"#9c179e\"],[0.4444444444444444,\"#bd3786\"],[0.5555555555555556,\"#d8576b\"],[0.6666666666666666,\"#ed7953\"],[0.7777777777777778,\"#fb9f3a\"],[0.8888888888888888,\"#fdca26\"],[1.0,\"#f0f921\"]]}],\"heatmap\":[{\"type\":\"heatmap\",\"colorbar\":{\"outlinewidth\":0,\"ticks\":\"\"},\"colorscale\":[[0.0,\"#0d0887\"],[0.1111111111111111,\"#46039f\"],[0.2222222222222222,\"#7201a8\"],[0.3333333333333333,\"#9c179e\"],[0.4444444444444444,\"#bd3786\"],[0.5555555555555556,\"#d8576b\"],[0.6666666666666666,\"#ed7953\"],[0.7777777777777778,\"#fb9f3a\"],[0.8888888888888888,\"#fdca26\"],[1.0,\"#f0f921\"]]}],\"heatmapgl\":[{\"type\":\"heatmapgl\",\"colorbar\":{\"outlinewidth\":0,\"ticks\":\"\"},\"colorscale\":[[0.0,\"#0d0887\"],[0.1111111111111111,\"#46039f\"],[0.2222222222222222,\"#7201a8\"],[0.3333333333333333,\"#9c179e\"],[0.4444444444444444,\"#bd3786\"],[0.5555555555555556,\"#d8576b\"],[0.6666666666666666,\"#ed7953\"],[0.7777777777777778,\"#fb9f3a\"],[0.8888888888888888,\"#fdca26\"],[1.0,\"#f0f921\"]]}],\"contourcarpet\":[{\"type\":\"contourcarpet\",\"colorbar\":{\"outlinewidth\":0,\"ticks\":\"\"}}],\"contour\":[{\"type\":\"contour\",\"colorbar\":{\"outlinewidth\":0,\"ticks\":\"\"},\"colorscale\":[[0.0,\"#0d0887\"],[0.1111111111111111,\"#46039f\"],[0.2222222222222222,\"#7201a8\"],[0.3333333333333333,\"#9c179e\"],[0.4444444444444444,\"#bd3786\"],[0.5555555555555556,\"#d8576b\"],[0.6666666666666666,\"#ed7953\"],[0.7777777777777778,\"#fb9f3a\"],[0.8888888888888888,\"#fdca26\"],[1.0,\"#f0f921\"]]}],\"surface\":[{\"type\":\"surface\",\"colorbar\":{\"outlinewidth\":0,\"ticks\":\"\"},\"colorscale\":[[0.0,\"#0d0887\"],[0.1111111111111111,\"#46039f\"],[0.2222222222222222,\"#7201a8\"],[0.3333333333333333,\"#9c179e\"],[0.4444444444444444,\"#bd3786\"],[0.5555555555555556,\"#d8576b\"],[0.6666666666666666,\"#ed7953\"],[0.7777777777777778,\"#fb9f3a\"],[0.8888888888888888,\"#fdca26\"],[1.0,\"#f0f921\"]]}],\"mesh3d\":[{\"type\":\"mesh3d\",\"colorbar\":{\"outlinewidth\":0,\"ticks\":\"\"}}],\"scatter\":[{\"fillpattern\":{\"fillmode\":\"overlay\",\"size\":10,\"solidity\":0.2},\"type\":\"scatter\"}],\"parcoords\":[{\"type\":\"parcoords\",\"line\":{\"colorbar\":{\"outlinewidth\":0,\"ticks\":\"\"}}}],\"scatterpolargl\":[{\"type\":\"scatterpolargl\",\"marker\":{\"colorbar\":{\"outlinewidth\":0,\"ticks\":\"\"}}}],\"bar\":[{\"error_x\":{\"color\":\"#2a3f5f\"},\"error_y\":{\"color\":\"#2a3f5f\"},\"marker\":{\"line\":{\"color\":\"#E5ECF6\",\"width\":0.5},\"pattern\":{\"fillmode\":\"overlay\",\"size\":10,\"solidity\":0.2}},\"type\":\"bar\"}],\"scattergeo\":[{\"type\":\"scattergeo\",\"marker\":{\"colorbar\":{\"outlinewidth\":0,\"ticks\":\"\"}}}],\"scatterpolar\":[{\"type\":\"scatterpolar\",\"marker\":{\"colorbar\":{\"outlinewidth\":0,\"ticks\":\"\"}}}],\"histogram\":[{\"marker\":{\"pattern\":{\"fillmode\":\"overlay\",\"size\":10,\"solidity\":0.2}},\"type\":\"histogram\"}],\"scattergl\":[{\"type\":\"scattergl\",\"marker\":{\"colorbar\":{\"outlinewidth\":0,\"ticks\":\"\"}}}],\"scatter3d\":[{\"type\":\"scatter3d\",\"line\":{\"colorbar\":{\"outlinewidth\":0,\"ticks\":\"\"}},\"marker\":{\"colorbar\":{\"outlinewidth\":0,\"ticks\":\"\"}}}],\"scattermapbox\":[{\"type\":\"scattermapbox\",\"marker\":{\"colorbar\":{\"outlinewidth\":0,\"ticks\":\"\"}}}],\"scatterternary\":[{\"type\":\"scatterternary\",\"marker\":{\"colorbar\":{\"outlinewidth\":0,\"ticks\":\"\"}}}],\"scattercarpet\":[{\"type\":\"scattercarpet\",\"marker\":{\"colorbar\":{\"outlinewidth\":0,\"ticks\":\"\"}}}],\"carpet\":[{\"aaxis\":{\"endlinecolor\":\"#2a3f5f\",\"gridcolor\":\"white\",\"linecolor\":\"white\",\"minorgridcolor\":\"white\",\"startlinecolor\":\"#2a3f5f\"},\"baxis\":{\"endlinecolor\":\"#2a3f5f\",\"gridcolor\":\"white\",\"linecolor\":\"white\",\"minorgridcolor\":\"white\",\"startlinecolor\":\"#2a3f5f\"},\"type\":\"carpet\"}],\"table\":[{\"cells\":{\"fill\":{\"color\":\"#EBF0F8\"},\"line\":{\"color\":\"white\"}},\"header\":{\"fill\":{\"color\":\"#C8D4E3\"},\"line\":{\"color\":\"white\"}},\"type\":\"table\"}],\"barpolar\":[{\"marker\":{\"line\":{\"color\":\"#E5ECF6\",\"width\":0.5},\"pattern\":{\"fillmode\":\"overlay\",\"size\":10,\"solidity\":0.2}},\"type\":\"barpolar\"}],\"pie\":[{\"automargin\":true,\"type\":\"pie\"}]},\"layout\":{\"autotypenumbers\":\"strict\",\"colorway\":[\"#636efa\",\"#EF553B\",\"#00cc96\",\"#ab63fa\",\"#FFA15A\",\"#19d3f3\",\"#FF6692\",\"#B6E880\",\"#FF97FF\",\"#FECB52\"],\"font\":{\"color\":\"#2a3f5f\"},\"hovermode\":\"closest\",\"hoverlabel\":{\"align\":\"left\"},\"paper_bgcolor\":\"white\",\"plot_bgcolor\":\"#E5ECF6\",\"polar\":{\"bgcolor\":\"#E5ECF6\",\"angularaxis\":{\"gridcolor\":\"white\",\"linecolor\":\"white\",\"ticks\":\"\"},\"radialaxis\":{\"gridcolor\":\"white\",\"linecolor\":\"white\",\"ticks\":\"\"}},\"ternary\":{\"bgcolor\":\"#E5ECF6\",\"aaxis\":{\"gridcolor\":\"white\",\"linecolor\":\"white\",\"ticks\":\"\"},\"baxis\":{\"gridcolor\":\"white\",\"linecolor\":\"white\",\"ticks\":\"\"},\"caxis\":{\"gridcolor\":\"white\",\"linecolor\":\"white\",\"ticks\":\"\"}},\"coloraxis\":{\"colorbar\":{\"outlinewidth\":0,\"ticks\":\"\"}},\"colorscale\":{\"sequential\":[[0.0,\"#0d0887\"],[0.1111111111111111,\"#46039f\"],[0.2222222222222222,\"#7201a8\"],[0.3333333333333333,\"#9c179e\"],[0.4444444444444444,\"#bd3786\"],[0.5555555555555556,\"#d8576b\"],[0.6666666666666666,\"#ed7953\"],[0.7777777777777778,\"#fb9f3a\"],[0.8888888888888888,\"#fdca26\"],[1.0,\"#f0f921\"]],\"sequentialminus\":[[0.0,\"#0d0887\"],[0.1111111111111111,\"#46039f\"],[0.2222222222222222,\"#7201a8\"],[0.3333333333333333,\"#9c179e\"],[0.4444444444444444,\"#bd3786\"],[0.5555555555555556,\"#d8576b\"],[0.6666666666666666,\"#ed7953\"],[0.7777777777777778,\"#fb9f3a\"],[0.8888888888888888,\"#fdca26\"],[1.0,\"#f0f921\"]],\"diverging\":[[0,\"#8e0152\"],[0.1,\"#c51b7d\"],[0.2,\"#de77ae\"],[0.3,\"#f1b6da\"],[0.4,\"#fde0ef\"],[0.5,\"#f7f7f7\"],[0.6,\"#e6f5d0\"],[0.7,\"#b8e186\"],[0.8,\"#7fbc41\"],[0.9,\"#4d9221\"],[1,\"#276419\"]]},\"xaxis\":{\"gridcolor\":\"white\",\"linecolor\":\"white\",\"ticks\":\"\",\"title\":{\"standoff\":15},\"zerolinecolor\":\"white\",\"automargin\":true,\"zerolinewidth\":2},\"yaxis\":{\"gridcolor\":\"white\",\"linecolor\":\"white\",\"ticks\":\"\",\"title\":{\"standoff\":15},\"zerolinecolor\":\"white\",\"automargin\":true,\"zerolinewidth\":2},\"scene\":{\"xaxis\":{\"backgroundcolor\":\"#E5ECF6\",\"gridcolor\":\"white\",\"linecolor\":\"white\",\"showbackground\":true,\"ticks\":\"\",\"zerolinecolor\":\"white\",\"gridwidth\":2},\"yaxis\":{\"backgroundcolor\":\"#E5ECF6\",\"gridcolor\":\"white\",\"linecolor\":\"white\",\"showbackground\":true,\"ticks\":\"\",\"zerolinecolor\":\"white\",\"gridwidth\":2},\"zaxis\":{\"backgroundcolor\":\"#E5ECF6\",\"gridcolor\":\"white\",\"linecolor\":\"white\",\"showbackground\":true,\"ticks\":\"\",\"zerolinecolor\":\"white\",\"gridwidth\":2}},\"shapedefaults\":{\"line\":{\"color\":\"#2a3f5f\"}},\"annotationdefaults\":{\"arrowcolor\":\"#2a3f5f\",\"arrowhead\":0,\"arrowwidth\":1},\"geo\":{\"bgcolor\":\"white\",\"landcolor\":\"#E5ECF6\",\"subunitcolor\":\"white\",\"showland\":true,\"showlakes\":true,\"lakecolor\":\"white\"},\"title\":{\"x\":0.05},\"mapbox\":{\"style\":\"light\"}}},\"xaxis\":{\"anchor\":\"y\",\"domain\":[0.0,1.0],\"title\":{\"text\":\"Region\"},\"categoryorder\":\"array\",\"categoryarray\":[\"Sydney - Eastern Suburbs\",\"Sydney - Baulkham Hills and Hawkesbury\",\"Sydney - Inner West\"]},\"yaxis\":{\"anchor\":\"x\",\"domain\":[0.0,1.0],\"title\":{\"text\":\"Number of Stops\"}},\"legend\":{\"title\":{\"text\":\"Region\"},\"tracegroupgap\":0},\"title\":{\"text\":\"Number of Stops by Region\",\"font\":{\"size\":20},\"x\":0.5},\"barmode\":\"relative\",\"showlegend\":false,\"hovermode\":\"x\"},                        {\"responsive\": true}                    ).then(function(){\n",
       "                            \n",
       "var gd = document.getElementById('c6cb168d-3fb0-4f34-88e0-23bf23c36cbc');\n",
       "var x = new MutationObserver(function (mutations, observer) {{\n",
       "        var display = window.getComputedStyle(gd).display;\n",
       "        if (!display || display === 'none') {{\n",
       "            console.log([gd, 'removed!']);\n",
       "            Plotly.purge(gd);\n",
       "            observer.disconnect();\n",
       "        }}\n",
       "}});\n",
       "\n",
       "// Listen for the removal of the full notebook cells\n",
       "var notebookContainer = gd.closest('#notebook-container');\n",
       "if (notebookContainer) {{\n",
       "    x.observe(notebookContainer, {childList: true});\n",
       "}}\n",
       "\n",
       "// Listen for the clearing of the current output cell\n",
       "var outputEl = gd.closest('.output');\n",
       "if (outputEl) {{\n",
       "    x.observe(outputEl, {childList: true});\n",
       "}}\n",
       "\n",
       "                        })                };                });            </script>        </div>"
      ]
     },
     "metadata": {},
     "output_type": "display_data"
    }
   ],
   "source": [
    "import plotly.express as px\n",
    "import plotly.graph_objects as go\n",
    "\n",
    "try:\n",
    "    engine, conn = pgconnect(CREDENTIALS_FILE)\n",
    "    if engine is not None:\n",
    "        query = text(\"\"\"\n",
    "        WITH region_stops AS (\n",
    "            SELECT \n",
    "                sa4.sa4_name,\n",
    "                COUNT(s.stop_id) as stop_count\n",
    "            FROM sa4_boundaries sa4\n",
    "            JOIN sa2_boundaries sa2 ON ST_Within(sa2.geometry, sa4.geometry)\n",
    "            LEFT JOIN stops s ON ST_Within(s.geometry, sa2.geometry)\n",
    "            WHERE sa4.sa4_name IN (\n",
    "                'Sydney - Baulkham Hills and Hawkesbury',\n",
    "                'Sydney - Eastern Suburbs',\n",
    "                'Sydney - Inner West'\n",
    "            )\n",
    "            GROUP BY sa4.sa4_name\n",
    "        )\n",
    "        SELECT * FROM region_stops;\n",
    "        \"\"\")\n",
    "        \n",
    "        df = pd.read_sql(query, engine)\n",
    "        \n",
    "        # Create interactive bar graph\n",
    "        fig = px.bar(df, \n",
    "                    x='sa4_name', \n",
    "                    y='stop_count',\n",
    "                    color='sa4_name',\n",
    "                    title='Number of Stops by Region',\n",
    "                    labels={\n",
    "                        'sa4_name': 'Region',\n",
    "                        'stop_count': 'Number of Stops'\n",
    "                    })\n",
    "        \n",
    "        # Update layout\n",
    "        fig.update_layout(\n",
    "            title_x=0.5,\n",
    "            title_font_size=20,\n",
    "            showlegend=False,\n",
    "            xaxis_title=\"Region\",\n",
    "            yaxis_title=\"Number of Stops\",\n",
    "            hovermode='x'\n",
    "        )\n",
    "        \n",
    "        # Add hover template\n",
    "        fig.update_traces(\n",
    "            hovertemplate=\"<br>\".join([\n",
    "                \"Region: %{x}\",\n",
    "                \"Number of Stops: %{y:,.0f}\",\n",
    "                \"<extra></extra>\"\n",
    "            ])\n",
    "        )\n",
    "        \n",
    "        # Show the plot\n",
    "        fig.show()\n",
    "        '''\n",
    "        # Print statistics\n",
    "        print(\"\\nStop Count Statistics:\")\n",
    "        print(df.sort_values('stop_count', ascending=False))\n",
    "        '''\n",
    "    else:\n",
    "        print(\"Failed to connect to the database.\")\n",
    "except Exception as e:\n",
    "    print(f\"Error: {e}\")"
   ]
  },
  {
   "cell_type": "markdown",
   "id": "6f18c8b9-5b94-4b59-8d26-2d09df50a0ef",
   "metadata": {},
   "source": [
    "### Interactive Heat-Map for Mean & Median Income across regions"
   ]
  },
  {
   "cell_type": "code",
   "execution_count": 42,
   "id": "595ebded-0265-43f9-86ed-3ebc887d1263",
   "metadata": {},
   "outputs": [
    {
     "name": "stdout",
     "output_type": "stream",
     "text": [
      "connected successfully.\n"
     ]
    },
    {
     "data": {
      "application/vnd.plotly.v1+json": {
       "config": {
        "plotlyServerURL": "https://plot.ly"
       },
       "data": [
        {
         "colorscale": [
          [
           0,
           "rgb(49,54,149)"
          ],
          [
           0.1,
           "rgb(69,117,180)"
          ],
          [
           0.2,
           "rgb(116,173,209)"
          ],
          [
           0.3,
           "rgb(171,217,233)"
          ],
          [
           0.4,
           "rgb(224,243,248)"
          ],
          [
           0.5,
           "rgb(255,255,191)"
          ],
          [
           0.6,
           "rgb(254,224,144)"
          ],
          [
           0.7,
           "rgb(253,174,97)"
          ],
          [
           0.8,
           "rgb(244,109,67)"
          ],
          [
           0.9,
           "rgb(215,48,39)"
          ],
          [
           1,
           "rgb(165,0,38)"
          ]
         ],
         "hoverongaps": false,
         "hovertemplate": "Region: %{y}<br>Income Type: %{x}<br>Amount: $%{z:,.0f}<br><extra></extra>",
         "text": [
          [
           "$86,072",
           "$64,365"
          ],
          [
           "$122,404",
           "$72,118"
          ],
          [
           "$73,345",
           "$54,804"
          ]
         ],
         "textfont": {
          "size": 14
         },
         "texttemplate": "%{text}",
         "type": "heatmap",
         "x": [
          "avg_mean_income",
          "avg_median_income"
         ],
         "y": [
          "Sydney - Baulkham Hills and Hawkesbury",
          "Sydney - Eastern Suburbs",
          "Sydney - Inner West"
         ],
         "z": [
          [
           86071.75,
           64365.333333333336
          ],
          [
           122404,
           72118.2
          ],
          [
           73345,
           54804.28571428572
          ]
         ]
        }
       ],
       "layout": {
        "height": 400,
        "template": {
         "data": {
          "bar": [
           {
            "error_x": {
             "color": "#2a3f5f"
            },
            "error_y": {
             "color": "#2a3f5f"
            },
            "marker": {
             "line": {
              "color": "#E5ECF6",
              "width": 0.5
             },
             "pattern": {
              "fillmode": "overlay",
              "size": 10,
              "solidity": 0.2
             }
            },
            "type": "bar"
           }
          ],
          "barpolar": [
           {
            "marker": {
             "line": {
              "color": "#E5ECF6",
              "width": 0.5
             },
             "pattern": {
              "fillmode": "overlay",
              "size": 10,
              "solidity": 0.2
             }
            },
            "type": "barpolar"
           }
          ],
          "carpet": [
           {
            "aaxis": {
             "endlinecolor": "#2a3f5f",
             "gridcolor": "white",
             "linecolor": "white",
             "minorgridcolor": "white",
             "startlinecolor": "#2a3f5f"
            },
            "baxis": {
             "endlinecolor": "#2a3f5f",
             "gridcolor": "white",
             "linecolor": "white",
             "minorgridcolor": "white",
             "startlinecolor": "#2a3f5f"
            },
            "type": "carpet"
           }
          ],
          "choropleth": [
           {
            "colorbar": {
             "outlinewidth": 0,
             "ticks": ""
            },
            "type": "choropleth"
           }
          ],
          "contour": [
           {
            "colorbar": {
             "outlinewidth": 0,
             "ticks": ""
            },
            "colorscale": [
             [
              0,
              "#0d0887"
             ],
             [
              0.1111111111111111,
              "#46039f"
             ],
             [
              0.2222222222222222,
              "#7201a8"
             ],
             [
              0.3333333333333333,
              "#9c179e"
             ],
             [
              0.4444444444444444,
              "#bd3786"
             ],
             [
              0.5555555555555556,
              "#d8576b"
             ],
             [
              0.6666666666666666,
              "#ed7953"
             ],
             [
              0.7777777777777778,
              "#fb9f3a"
             ],
             [
              0.8888888888888888,
              "#fdca26"
             ],
             [
              1,
              "#f0f921"
             ]
            ],
            "type": "contour"
           }
          ],
          "contourcarpet": [
           {
            "colorbar": {
             "outlinewidth": 0,
             "ticks": ""
            },
            "type": "contourcarpet"
           }
          ],
          "heatmap": [
           {
            "colorbar": {
             "outlinewidth": 0,
             "ticks": ""
            },
            "colorscale": [
             [
              0,
              "#0d0887"
             ],
             [
              0.1111111111111111,
              "#46039f"
             ],
             [
              0.2222222222222222,
              "#7201a8"
             ],
             [
              0.3333333333333333,
              "#9c179e"
             ],
             [
              0.4444444444444444,
              "#bd3786"
             ],
             [
              0.5555555555555556,
              "#d8576b"
             ],
             [
              0.6666666666666666,
              "#ed7953"
             ],
             [
              0.7777777777777778,
              "#fb9f3a"
             ],
             [
              0.8888888888888888,
              "#fdca26"
             ],
             [
              1,
              "#f0f921"
             ]
            ],
            "type": "heatmap"
           }
          ],
          "heatmapgl": [
           {
            "colorbar": {
             "outlinewidth": 0,
             "ticks": ""
            },
            "colorscale": [
             [
              0,
              "#0d0887"
             ],
             [
              0.1111111111111111,
              "#46039f"
             ],
             [
              0.2222222222222222,
              "#7201a8"
             ],
             [
              0.3333333333333333,
              "#9c179e"
             ],
             [
              0.4444444444444444,
              "#bd3786"
             ],
             [
              0.5555555555555556,
              "#d8576b"
             ],
             [
              0.6666666666666666,
              "#ed7953"
             ],
             [
              0.7777777777777778,
              "#fb9f3a"
             ],
             [
              0.8888888888888888,
              "#fdca26"
             ],
             [
              1,
              "#f0f921"
             ]
            ],
            "type": "heatmapgl"
           }
          ],
          "histogram": [
           {
            "marker": {
             "pattern": {
              "fillmode": "overlay",
              "size": 10,
              "solidity": 0.2
             }
            },
            "type": "histogram"
           }
          ],
          "histogram2d": [
           {
            "colorbar": {
             "outlinewidth": 0,
             "ticks": ""
            },
            "colorscale": [
             [
              0,
              "#0d0887"
             ],
             [
              0.1111111111111111,
              "#46039f"
             ],
             [
              0.2222222222222222,
              "#7201a8"
             ],
             [
              0.3333333333333333,
              "#9c179e"
             ],
             [
              0.4444444444444444,
              "#bd3786"
             ],
             [
              0.5555555555555556,
              "#d8576b"
             ],
             [
              0.6666666666666666,
              "#ed7953"
             ],
             [
              0.7777777777777778,
              "#fb9f3a"
             ],
             [
              0.8888888888888888,
              "#fdca26"
             ],
             [
              1,
              "#f0f921"
             ]
            ],
            "type": "histogram2d"
           }
          ],
          "histogram2dcontour": [
           {
            "colorbar": {
             "outlinewidth": 0,
             "ticks": ""
            },
            "colorscale": [
             [
              0,
              "#0d0887"
             ],
             [
              0.1111111111111111,
              "#46039f"
             ],
             [
              0.2222222222222222,
              "#7201a8"
             ],
             [
              0.3333333333333333,
              "#9c179e"
             ],
             [
              0.4444444444444444,
              "#bd3786"
             ],
             [
              0.5555555555555556,
              "#d8576b"
             ],
             [
              0.6666666666666666,
              "#ed7953"
             ],
             [
              0.7777777777777778,
              "#fb9f3a"
             ],
             [
              0.8888888888888888,
              "#fdca26"
             ],
             [
              1,
              "#f0f921"
             ]
            ],
            "type": "histogram2dcontour"
           }
          ],
          "mesh3d": [
           {
            "colorbar": {
             "outlinewidth": 0,
             "ticks": ""
            },
            "type": "mesh3d"
           }
          ],
          "parcoords": [
           {
            "line": {
             "colorbar": {
              "outlinewidth": 0,
              "ticks": ""
             }
            },
            "type": "parcoords"
           }
          ],
          "pie": [
           {
            "automargin": true,
            "type": "pie"
           }
          ],
          "scatter": [
           {
            "fillpattern": {
             "fillmode": "overlay",
             "size": 10,
             "solidity": 0.2
            },
            "type": "scatter"
           }
          ],
          "scatter3d": [
           {
            "line": {
             "colorbar": {
              "outlinewidth": 0,
              "ticks": ""
             }
            },
            "marker": {
             "colorbar": {
              "outlinewidth": 0,
              "ticks": ""
             }
            },
            "type": "scatter3d"
           }
          ],
          "scattercarpet": [
           {
            "marker": {
             "colorbar": {
              "outlinewidth": 0,
              "ticks": ""
             }
            },
            "type": "scattercarpet"
           }
          ],
          "scattergeo": [
           {
            "marker": {
             "colorbar": {
              "outlinewidth": 0,
              "ticks": ""
             }
            },
            "type": "scattergeo"
           }
          ],
          "scattergl": [
           {
            "marker": {
             "colorbar": {
              "outlinewidth": 0,
              "ticks": ""
             }
            },
            "type": "scattergl"
           }
          ],
          "scattermapbox": [
           {
            "marker": {
             "colorbar": {
              "outlinewidth": 0,
              "ticks": ""
             }
            },
            "type": "scattermapbox"
           }
          ],
          "scatterpolar": [
           {
            "marker": {
             "colorbar": {
              "outlinewidth": 0,
              "ticks": ""
             }
            },
            "type": "scatterpolar"
           }
          ],
          "scatterpolargl": [
           {
            "marker": {
             "colorbar": {
              "outlinewidth": 0,
              "ticks": ""
             }
            },
            "type": "scatterpolargl"
           }
          ],
          "scatterternary": [
           {
            "marker": {
             "colorbar": {
              "outlinewidth": 0,
              "ticks": ""
             }
            },
            "type": "scatterternary"
           }
          ],
          "surface": [
           {
            "colorbar": {
             "outlinewidth": 0,
             "ticks": ""
            },
            "colorscale": [
             [
              0,
              "#0d0887"
             ],
             [
              0.1111111111111111,
              "#46039f"
             ],
             [
              0.2222222222222222,
              "#7201a8"
             ],
             [
              0.3333333333333333,
              "#9c179e"
             ],
             [
              0.4444444444444444,
              "#bd3786"
             ],
             [
              0.5555555555555556,
              "#d8576b"
             ],
             [
              0.6666666666666666,
              "#ed7953"
             ],
             [
              0.7777777777777778,
              "#fb9f3a"
             ],
             [
              0.8888888888888888,
              "#fdca26"
             ],
             [
              1,
              "#f0f921"
             ]
            ],
            "type": "surface"
           }
          ],
          "table": [
           {
            "cells": {
             "fill": {
              "color": "#EBF0F8"
             },
             "line": {
              "color": "white"
             }
            },
            "header": {
             "fill": {
              "color": "#C8D4E3"
             },
             "line": {
              "color": "white"
             }
            },
            "type": "table"
           }
          ]
         },
         "layout": {
          "annotationdefaults": {
           "arrowcolor": "#2a3f5f",
           "arrowhead": 0,
           "arrowwidth": 1
          },
          "autotypenumbers": "strict",
          "coloraxis": {
           "colorbar": {
            "outlinewidth": 0,
            "ticks": ""
           }
          },
          "colorscale": {
           "diverging": [
            [
             0,
             "#8e0152"
            ],
            [
             0.1,
             "#c51b7d"
            ],
            [
             0.2,
             "#de77ae"
            ],
            [
             0.3,
             "#f1b6da"
            ],
            [
             0.4,
             "#fde0ef"
            ],
            [
             0.5,
             "#f7f7f7"
            ],
            [
             0.6,
             "#e6f5d0"
            ],
            [
             0.7,
             "#b8e186"
            ],
            [
             0.8,
             "#7fbc41"
            ],
            [
             0.9,
             "#4d9221"
            ],
            [
             1,
             "#276419"
            ]
           ],
           "sequential": [
            [
             0,
             "#0d0887"
            ],
            [
             0.1111111111111111,
             "#46039f"
            ],
            [
             0.2222222222222222,
             "#7201a8"
            ],
            [
             0.3333333333333333,
             "#9c179e"
            ],
            [
             0.4444444444444444,
             "#bd3786"
            ],
            [
             0.5555555555555556,
             "#d8576b"
            ],
            [
             0.6666666666666666,
             "#ed7953"
            ],
            [
             0.7777777777777778,
             "#fb9f3a"
            ],
            [
             0.8888888888888888,
             "#fdca26"
            ],
            [
             1,
             "#f0f921"
            ]
           ],
           "sequentialminus": [
            [
             0,
             "#0d0887"
            ],
            [
             0.1111111111111111,
             "#46039f"
            ],
            [
             0.2222222222222222,
             "#7201a8"
            ],
            [
             0.3333333333333333,
             "#9c179e"
            ],
            [
             0.4444444444444444,
             "#bd3786"
            ],
            [
             0.5555555555555556,
             "#d8576b"
            ],
            [
             0.6666666666666666,
             "#ed7953"
            ],
            [
             0.7777777777777778,
             "#fb9f3a"
            ],
            [
             0.8888888888888888,
             "#fdca26"
            ],
            [
             1,
             "#f0f921"
            ]
           ]
          },
          "colorway": [
           "#636efa",
           "#EF553B",
           "#00cc96",
           "#ab63fa",
           "#FFA15A",
           "#19d3f3",
           "#FF6692",
           "#B6E880",
           "#FF97FF",
           "#FECB52"
          ],
          "font": {
           "color": "#2a3f5f"
          },
          "geo": {
           "bgcolor": "white",
           "lakecolor": "white",
           "landcolor": "#E5ECF6",
           "showlakes": true,
           "showland": true,
           "subunitcolor": "white"
          },
          "hoverlabel": {
           "align": "left"
          },
          "hovermode": "closest",
          "mapbox": {
           "style": "light"
          },
          "paper_bgcolor": "white",
          "plot_bgcolor": "#E5ECF6",
          "polar": {
           "angularaxis": {
            "gridcolor": "white",
            "linecolor": "white",
            "ticks": ""
           },
           "bgcolor": "#E5ECF6",
           "radialaxis": {
            "gridcolor": "white",
            "linecolor": "white",
            "ticks": ""
           }
          },
          "scene": {
           "xaxis": {
            "backgroundcolor": "#E5ECF6",
            "gridcolor": "white",
            "gridwidth": 2,
            "linecolor": "white",
            "showbackground": true,
            "ticks": "",
            "zerolinecolor": "white"
           },
           "yaxis": {
            "backgroundcolor": "#E5ECF6",
            "gridcolor": "white",
            "gridwidth": 2,
            "linecolor": "white",
            "showbackground": true,
            "ticks": "",
            "zerolinecolor": "white"
           },
           "zaxis": {
            "backgroundcolor": "#E5ECF6",
            "gridcolor": "white",
            "gridwidth": 2,
            "linecolor": "white",
            "showbackground": true,
            "ticks": "",
            "zerolinecolor": "white"
           }
          },
          "shapedefaults": {
           "line": {
            "color": "#2a3f5f"
           }
          },
          "ternary": {
           "aaxis": {
            "gridcolor": "white",
            "linecolor": "white",
            "ticks": ""
           },
           "baxis": {
            "gridcolor": "white",
            "linecolor": "white",
            "ticks": ""
           },
           "bgcolor": "#E5ECF6",
           "caxis": {
            "gridcolor": "white",
            "linecolor": "white",
            "ticks": ""
           }
          },
          "title": {
           "x": 0.05
          },
          "xaxis": {
           "automargin": true,
           "gridcolor": "white",
           "linecolor": "white",
           "ticks": "",
           "title": {
            "standoff": 15
           },
           "zerolinecolor": "white",
           "zerolinewidth": 2
          },
          "yaxis": {
           "automargin": true,
           "gridcolor": "white",
           "linecolor": "white",
           "ticks": "",
           "title": {
            "standoff": 15
           },
           "zerolinecolor": "white",
           "zerolinewidth": 2
          }
         }
        },
        "title": {
         "font": {
          "size": 20
         },
         "text": "Income Comparison by Region",
         "x": 0.5
        },
        "width": 800,
        "xaxis": {
         "autorange": true,
         "range": [
          -0.5,
          1.5
         ],
         "title": {
          "text": "Income Type"
         },
         "type": "category"
        },
        "yaxis": {
         "autorange": true,
         "range": [
          -0.5,
          2.5
         ],
         "title": {
          "text": "Region"
         },
         "type": "category"
        }
       }
      },
      "image/png": "[encoded data removed]",
      "text/html": [
       "<div>                            <div id=\"06914bcf-32dd-4731-be7d-33973d7afb8e\" class=\"plotly-graph-div\" style=\"height:400px; width:800px;\"></div>            <script type=\"text/javascript\">                require([\"plotly\"], function(Plotly) {                    window.PLOTLYENV=window.PLOTLYENV || {};                                    if (document.getElementById(\"06914bcf-32dd-4731-be7d-33973d7afb8e\")) {                    Plotly.newPlot(                        \"06914bcf-32dd-4731-be7d-33973d7afb8e\",                        [{\"colorscale\":[[0.0,\"rgb(49,54,149)\"],[0.1,\"rgb(69,117,180)\"],[0.2,\"rgb(116,173,209)\"],[0.3,\"rgb(171,217,233)\"],[0.4,\"rgb(224,243,248)\"],[0.5,\"rgb(255,255,191)\"],[0.6,\"rgb(254,224,144)\"],[0.7,\"rgb(253,174,97)\"],[0.8,\"rgb(244,109,67)\"],[0.9,\"rgb(215,48,39)\"],[1.0,\"rgb(165,0,38)\"]],\"hoverongaps\":false,\"text\":[[\"$86,072\",\"$64,365\"],[\"$122,404\",\"$72,118\"],[\"$73,345\",\"$54,804\"]],\"textfont\":{\"size\":14},\"texttemplate\":\"%{text}\",\"x\":[\"avg_mean_income\",\"avg_median_income\"],\"y\":[\"Sydney - Baulkham Hills and Hawkesbury\",\"Sydney - Eastern Suburbs\",\"Sydney - Inner West\"],\"z\":[[86071.75,64365.333333333336],[122404.0,72118.2],[73345.0,54804.28571428572]],\"type\":\"heatmap\",\"hovertemplate\":\"Region: %{y}\\u003cbr\\u003eIncome Type: %{x}\\u003cbr\\u003eAmount: $%{z:,.0f}\\u003cbr\\u003e\\u003cextra\\u003e\\u003c\\u002fextra\\u003e\"}],                        {\"template\":{\"data\":{\"histogram2dcontour\":[{\"type\":\"histogram2dcontour\",\"colorbar\":{\"outlinewidth\":0,\"ticks\":\"\"},\"colorscale\":[[0.0,\"#0d0887\"],[0.1111111111111111,\"#46039f\"],[0.2222222222222222,\"#7201a8\"],[0.3333333333333333,\"#9c179e\"],[0.4444444444444444,\"#bd3786\"],[0.5555555555555556,\"#d8576b\"],[0.6666666666666666,\"#ed7953\"],[0.7777777777777778,\"#fb9f3a\"],[0.8888888888888888,\"#fdca26\"],[1.0,\"#f0f921\"]]}],\"choropleth\":[{\"type\":\"choropleth\",\"colorbar\":{\"outlinewidth\":0,\"ticks\":\"\"}}],\"histogram2d\":[{\"type\":\"histogram2d\",\"colorbar\":{\"outlinewidth\":0,\"ticks\":\"\"},\"colorscale\":[[0.0,\"#0d0887\"],[0.1111111111111111,\"#46039f\"],[0.2222222222222222,\"#7201a8\"],[0.3333333333333333,\"#9c179e\"],[0.4444444444444444,\"#bd3786\"],[0.5555555555555556,\"#d8576b\"],[0.6666666666666666,\"#ed7953\"],[0.7777777777777778,\"#fb9f3a\"],[0.8888888888888888,\"#fdca26\"],[1.0,\"#f0f921\"]]}],\"heatmap\":[{\"type\":\"heatmap\",\"colorbar\":{\"outlinewidth\":0,\"ticks\":\"\"},\"colorscale\":[[0.0,\"#0d0887\"],[0.1111111111111111,\"#46039f\"],[0.2222222222222222,\"#7201a8\"],[0.3333333333333333,\"#9c179e\"],[0.4444444444444444,\"#bd3786\"],[0.5555555555555556,\"#d8576b\"],[0.6666666666666666,\"#ed7953\"],[0.7777777777777778,\"#fb9f3a\"],[0.8888888888888888,\"#fdca26\"],[1.0,\"#f0f921\"]]}],\"heatmapgl\":[{\"type\":\"heatmapgl\",\"colorbar\":{\"outlinewidth\":0,\"ticks\":\"\"},\"colorscale\":[[0.0,\"#0d0887\"],[0.1111111111111111,\"#46039f\"],[0.2222222222222222,\"#7201a8\"],[0.3333333333333333,\"#9c179e\"],[0.4444444444444444,\"#bd3786\"],[0.5555555555555556,\"#d8576b\"],[0.6666666666666666,\"#ed7953\"],[0.7777777777777778,\"#fb9f3a\"],[0.8888888888888888,\"#fdca26\"],[1.0,\"#f0f921\"]]}],\"contourcarpet\":[{\"type\":\"contourcarpet\",\"colorbar\":{\"outlinewidth\":0,\"ticks\":\"\"}}],\"contour\":[{\"type\":\"contour\",\"colorbar\":{\"outlinewidth\":0,\"ticks\":\"\"},\"colorscale\":[[0.0,\"#0d0887\"],[0.1111111111111111,\"#46039f\"],[0.2222222222222222,\"#7201a8\"],[0.3333333333333333,\"#9c179e\"],[0.4444444444444444,\"#bd3786\"],[0.5555555555555556,\"#d8576b\"],[0.6666666666666666,\"#ed7953\"],[0.7777777777777778,\"#fb9f3a\"],[0.8888888888888888,\"#fdca26\"],[1.0,\"#f0f921\"]]}],\"surface\":[{\"type\":\"surface\",\"colorbar\":{\"outlinewidth\":0,\"ticks\":\"\"},\"colorscale\":[[0.0,\"#0d0887\"],[0.1111111111111111,\"#46039f\"],[0.2222222222222222,\"#7201a8\"],[0.3333333333333333,\"#9c179e\"],[0.4444444444444444,\"#bd3786\"],[0.5555555555555556,\"#d8576b\"],[0.6666666666666666,\"#ed7953\"],[0.7777777777777778,\"#fb9f3a\"],[0.8888888888888888,\"#fdca26\"],[1.0,\"#f0f921\"]]}],\"mesh3d\":[{\"type\":\"mesh3d\",\"colorbar\":{\"outlinewidth\":0,\"ticks\":\"\"}}],\"scatter\":[{\"fillpattern\":{\"fillmode\":\"overlay\",\"size\":10,\"solidity\":0.2},\"type\":\"scatter\"}],\"parcoords\":[{\"type\":\"parcoords\",\"line\":{\"colorbar\":{\"outlinewidth\":0,\"ticks\":\"\"}}}],\"scatterpolargl\":[{\"type\":\"scatterpolargl\",\"marker\":{\"colorbar\":{\"outlinewidth\":0,\"ticks\":\"\"}}}],\"bar\":[{\"error_x\":{\"color\":\"#2a3f5f\"},\"error_y\":{\"color\":\"#2a3f5f\"},\"marker\":{\"line\":{\"color\":\"#E5ECF6\",\"width\":0.5},\"pattern\":{\"fillmode\":\"overlay\",\"size\":10,\"solidity\":0.2}},\"type\":\"bar\"}],\"scattergeo\":[{\"type\":\"scattergeo\",\"marker\":{\"colorbar\":{\"outlinewidth\":0,\"ticks\":\"\"}}}],\"scatterpolar\":[{\"type\":\"scatterpolar\",\"marker\":{\"colorbar\":{\"outlinewidth\":0,\"ticks\":\"\"}}}],\"histogram\":[{\"marker\":{\"pattern\":{\"fillmode\":\"overlay\",\"size\":10,\"solidity\":0.2}},\"type\":\"histogram\"}],\"scattergl\":[{\"type\":\"scattergl\",\"marker\":{\"colorbar\":{\"outlinewidth\":0,\"ticks\":\"\"}}}],\"scatter3d\":[{\"type\":\"scatter3d\",\"line\":{\"colorbar\":{\"outlinewidth\":0,\"ticks\":\"\"}},\"marker\":{\"colorbar\":{\"outlinewidth\":0,\"ticks\":\"\"}}}],\"scattermapbox\":[{\"type\":\"scattermapbox\",\"marker\":{\"colorbar\":{\"outlinewidth\":0,\"ticks\":\"\"}}}],\"scatterternary\":[{\"type\":\"scatterternary\",\"marker\":{\"colorbar\":{\"outlinewidth\":0,\"ticks\":\"\"}}}],\"scattercarpet\":[{\"type\":\"scattercarpet\",\"marker\":{\"colorbar\":{\"outlinewidth\":0,\"ticks\":\"\"}}}],\"carpet\":[{\"aaxis\":{\"endlinecolor\":\"#2a3f5f\",\"gridcolor\":\"white\",\"linecolor\":\"white\",\"minorgridcolor\":\"white\",\"startlinecolor\":\"#2a3f5f\"},\"baxis\":{\"endlinecolor\":\"#2a3f5f\",\"gridcolor\":\"white\",\"linecolor\":\"white\",\"minorgridcolor\":\"white\",\"startlinecolor\":\"#2a3f5f\"},\"type\":\"carpet\"}],\"table\":[{\"cells\":{\"fill\":{\"color\":\"#EBF0F8\"},\"line\":{\"color\":\"white\"}},\"header\":{\"fill\":{\"color\":\"#C8D4E3\"},\"line\":{\"color\":\"white\"}},\"type\":\"table\"}],\"barpolar\":[{\"marker\":{\"line\":{\"color\":\"#E5ECF6\",\"width\":0.5},\"pattern\":{\"fillmode\":\"overlay\",\"size\":10,\"solidity\":0.2}},\"type\":\"barpolar\"}],\"pie\":[{\"automargin\":true,\"type\":\"pie\"}]},\"layout\":{\"autotypenumbers\":\"strict\",\"colorway\":[\"#636efa\",\"#EF553B\",\"#00cc96\",\"#ab63fa\",\"#FFA15A\",\"#19d3f3\",\"#FF6692\",\"#B6E880\",\"#FF97FF\",\"#FECB52\"],\"font\":{\"color\":\"#2a3f5f\"},\"hovermode\":\"closest\",\"hoverlabel\":{\"align\":\"left\"},\"paper_bgcolor\":\"white\",\"plot_bgcolor\":\"#E5ECF6\",\"polar\":{\"bgcolor\":\"#E5ECF6\",\"angularaxis\":{\"gridcolor\":\"white\",\"linecolor\":\"white\",\"ticks\":\"\"},\"radialaxis\":{\"gridcolor\":\"white\",\"linecolor\":\"white\",\"ticks\":\"\"}},\"ternary\":{\"bgcolor\":\"#E5ECF6\",\"aaxis\":{\"gridcolor\":\"white\",\"linecolor\":\"white\",\"ticks\":\"\"},\"baxis\":{\"gridcolor\":\"white\",\"linecolor\":\"white\",\"ticks\":\"\"},\"caxis\":{\"gridcolor\":\"white\",\"linecolor\":\"white\",\"ticks\":\"\"}},\"coloraxis\":{\"colorbar\":{\"outlinewidth\":0,\"ticks\":\"\"}},\"colorscale\":{\"sequential\":[[0.0,\"#0d0887\"],[0.1111111111111111,\"#46039f\"],[0.2222222222222222,\"#7201a8\"],[0.3333333333333333,\"#9c179e\"],[0.4444444444444444,\"#bd3786\"],[0.5555555555555556,\"#d8576b\"],[0.6666666666666666,\"#ed7953\"],[0.7777777777777778,\"#fb9f3a\"],[0.8888888888888888,\"#fdca26\"],[1.0,\"#f0f921\"]],\"sequentialminus\":[[0.0,\"#0d0887\"],[0.1111111111111111,\"#46039f\"],[0.2222222222222222,\"#7201a8\"],[0.3333333333333333,\"#9c179e\"],[0.4444444444444444,\"#bd3786\"],[0.5555555555555556,\"#d8576b\"],[0.6666666666666666,\"#ed7953\"],[0.7777777777777778,\"#fb9f3a\"],[0.8888888888888888,\"#fdca26\"],[1.0,\"#f0f921\"]],\"diverging\":[[0,\"#8e0152\"],[0.1,\"#c51b7d\"],[0.2,\"#de77ae\"],[0.3,\"#f1b6da\"],[0.4,\"#fde0ef\"],[0.5,\"#f7f7f7\"],[0.6,\"#e6f5d0\"],[0.7,\"#b8e186\"],[0.8,\"#7fbc41\"],[0.9,\"#4d9221\"],[1,\"#276419\"]]},\"xaxis\":{\"gridcolor\":\"white\",\"linecolor\":\"white\",\"ticks\":\"\",\"title\":{\"standoff\":15},\"zerolinecolor\":\"white\",\"automargin\":true,\"zerolinewidth\":2},\"yaxis\":{\"gridcolor\":\"white\",\"linecolor\":\"white\",\"ticks\":\"\",\"title\":{\"standoff\":15},\"zerolinecolor\":\"white\",\"automargin\":true,\"zerolinewidth\":2},\"scene\":{\"xaxis\":{\"backgroundcolor\":\"#E5ECF6\",\"gridcolor\":\"white\",\"linecolor\":\"white\",\"showbackground\":true,\"ticks\":\"\",\"zerolinecolor\":\"white\",\"gridwidth\":2},\"yaxis\":{\"backgroundcolor\":\"#E5ECF6\",\"gridcolor\":\"white\",\"linecolor\":\"white\",\"showbackground\":true,\"ticks\":\"\",\"zerolinecolor\":\"white\",\"gridwidth\":2},\"zaxis\":{\"backgroundcolor\":\"#E5ECF6\",\"gridcolor\":\"white\",\"linecolor\":\"white\",\"showbackground\":true,\"ticks\":\"\",\"zerolinecolor\":\"white\",\"gridwidth\":2}},\"shapedefaults\":{\"line\":{\"color\":\"#2a3f5f\"}},\"annotationdefaults\":{\"arrowcolor\":\"#2a3f5f\",\"arrowhead\":0,\"arrowwidth\":1},\"geo\":{\"bgcolor\":\"white\",\"landcolor\":\"#E5ECF6\",\"subunitcolor\":\"white\",\"showland\":true,\"showlakes\":true,\"lakecolor\":\"white\"},\"title\":{\"x\":0.05},\"mapbox\":{\"style\":\"light\"}}},\"title\":{\"text\":\"Income Comparison by Region\",\"x\":0.5,\"font\":{\"size\":20}},\"xaxis\":{\"title\":{\"text\":\"Income Type\"}},\"yaxis\":{\"title\":{\"text\":\"Region\"}},\"height\":400,\"width\":800},                        {\"responsive\": true}                    ).then(function(){\n",
       "                            \n",
       "var gd = document.getElementById('06914bcf-32dd-4731-be7d-33973d7afb8e');\n",
       "var x = new MutationObserver(function (mutations, observer) {{\n",
       "        var display = window.getComputedStyle(gd).display;\n",
       "        if (!display || display === 'none') {{\n",
       "            console.log([gd, 'removed!']);\n",
       "            Plotly.purge(gd);\n",
       "            observer.disconnect();\n",
       "        }}\n",
       "}});\n",
       "\n",
       "// Listen for the removal of the full notebook cells\n",
       "var notebookContainer = gd.closest('#notebook-container');\n",
       "if (notebookContainer) {{\n",
       "    x.observe(notebookContainer, {childList: true});\n",
       "}}\n",
       "\n",
       "// Listen for the clearing of the current output cell\n",
       "var outputEl = gd.closest('.output');\n",
       "if (outputEl) {{\n",
       "    x.observe(outputEl, {childList: true});\n",
       "}}\n",
       "\n",
       "                        })                };                });            </script>        </div>"
      ]
     },
     "metadata": {},
     "output_type": "display_data"
    }
   ],
   "source": [
    "import plotly.express as px\n",
    "import plotly.graph_objects as go\n",
    "\n",
    "try:\n",
    "    engine, conn = pgconnect(CREDENTIALS_FILE)\n",
    "    if engine is not None:\n",
    "        query = text(\"\"\"\n",
    "        WITH region_income AS (\n",
    "            SELECT \n",
    "                sa4.sa4_name,\n",
    "                AVG(i.median_income) as avg_median_income,\n",
    "                AVG(i.mean_income) as avg_mean_income,\n",
    "                COUNT(DISTINCT i.sa2_name) as num_areas\n",
    "            FROM sa4_boundaries sa4\n",
    "            JOIN sa2_boundaries sa2 ON ST_Within(sa2.geometry, sa4.geometry)\n",
    "            LEFT JOIN income i ON sa2.sa2_name = i.sa2_name\n",
    "            WHERE sa4.sa4_name IN (\n",
    "                'Sydney - Baulkham Hills and Hawkesbury',\n",
    "                'Sydney - Eastern Suburbs',\n",
    "                'Sydney - Inner West'\n",
    "            )\n",
    "            GROUP BY sa4.sa4_name\n",
    "        )\n",
    "        SELECT * FROM region_income;\n",
    "        \"\"\")\n",
    "        \n",
    "        df = pd.read_sql(query, engine)\n",
    "        \n",
    "        # Create a pivot table for the heatmap\n",
    "        heatmap_data = df.pivot_table(\n",
    "            index='sa4_name',\n",
    "            values=['avg_median_income', 'avg_mean_income'],\n",
    "            aggfunc='mean'\n",
    "        )\n",
    "        \n",
    "        # Create interactive heatmap\n",
    "        fig = go.Figure(data=go.Heatmap(\n",
    "            z=heatmap_data.values,\n",
    "            x=heatmap_data.columns,\n",
    "            y=heatmap_data.index,\n",
    "            colorscale='RdYlBu_r',  # Red to Blue color scale\n",
    "            text=[[f\"${val:,.0f}\" for val in row] for row in heatmap_data.values],\n",
    "            texttemplate=\"%{text}\",\n",
    "            textfont={\"size\": 14},\n",
    "            hoverongaps=False\n",
    "        ))\n",
    "        \n",
    "        # Update layout\n",
    "        fig.update_layout(\n",
    "            title='Income Comparison by Region',\n",
    "            title_x=0.5,\n",
    "            title_font_size=20,\n",
    "            xaxis_title=\"Income Type\",\n",
    "            yaxis_title=\"Region\",\n",
    "            height=400,\n",
    "            width=800\n",
    "        )\n",
    "        \n",
    "        # Add hover template\n",
    "        fig.update_traces(\n",
    "            hovertemplate=\"<br>\".join([\n",
    "                \"Region: %{y}\",\n",
    "                \"Income Type: %{x}\",\n",
    "                \"Amount: $%{z:,.0f}\",\n",
    "                \"<extra></extra>\"\n",
    "            ])\n",
    "        )\n",
    "        \n",
    "        # Show the plot\n",
    "        fig.show()\n",
    "        '''\n",
    "        # Print detailed statistics\n",
    "        print(\"\\nIncome Statistics by Region:\")\n",
    "        print(\"\\nMedian Income:\")\n",
    "        print(df[['sa4_name', 'avg_median_income']].sort_values('avg_median_income', ascending=False))\n",
    "        print(\"\\nMean Income:\")\n",
    "        print(df[['sa4_name', 'avg_mean_income']].sort_values('avg_mean_income', ascending=False))\n",
    "        '''\n",
    "    else:\n",
    "        print(\"Failed to connect to the database.\")\n",
    "except Exception as e:\n",
    "    print(f\"Error: {e}\")"
   ]
  },
  {
   "cell_type": "code",
   "execution_count": null,
   "id": "fcbeba73-3d45-4956-9f7d-1c487399b6a7",
   "metadata": {},
   "outputs": [],
   "source": []
  },
  {
   "cell_type": "code",
   "execution_count": null,
   "id": "ebe2a026-011d-4344-a13b-6c61003a6182",
   "metadata": {},
   "outputs": [],
   "source": []
  }
 ],
 "metadata": {
  "kernelspec": {
   "display_name": "Python [conda env:base] *",
   "language": "python",
   "name": "conda-base-py"
  },
  "language_info": {
   "codemirror_mode": {
    "name": "ipython",
    "version": 3
   },
   "file_extension": ".py",
   "mimetype": "text/x-python",
   "name": "python",
   "nbconvert_exporter": "python",
   "pygments_lexer": "ipython3",
   "version": "3.12.7"
  }
 },
 "nbformat": 4,
 "nbformat_minor": 5
}
